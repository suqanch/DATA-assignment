{
 "cells": [
  {
   "cell_type": "markdown",
   "id": "b1c1d16b-311e-473f-b446-e021070f9592",
   "metadata": {},
   "source": [
    " ##### Journal 11969443 Zhenyuan He "
   ]
  },
  {
   "cell_type": "markdown",
   "id": "4719ac4a-5bb6-456d-8669-32c71f7384b0",
   "metadata": {},
   "source": [
    "# LAB1\n",
    "\n",
    "In lab1, I encountered a lot of installation difficulties, AT tutor told me that I'd better learn to find the information to solve the problem by myself, during that time, I reinstalled Ubuntu twice to solve the problem that the tidyverse package could not be installed, but still could not solve the problem. Later I tried to install tidyverse on Ubuntu, and still couldn't solve the problem by looking for information online. The final solution was to install tutor with Ubuntu in administrator mode, during which a lot of errors were generated, and after searching through the Internet, the problem was finally solved. \n",
    "\n",
    "\n",
    "                                                     ——————19/7"
   ]
  },
  {
   "cell_type": "markdown",
   "id": "6c423030-6eab-47df-86dc-e642afdde0a1",
   "metadata": {},
   "source": [
    "# LAB2"
   ]
  },
  {
   "cell_type": "markdown",
   "id": "deae0943-c4a3-402b-8d76-8532df931acc",
   "metadata": {},
   "source": [
    "This week we officially started to learn R language, and I thought it was a little different, variable types, while loops and other basic functions were passed over, and directly into the data organization course, because it is the first contact course, to vectors, tibble or relatively new.\n",
    "\n",
    "\n",
    ">Note that here filter () function is not literally \"filter out\" the meaning, but to retain the eligible lines, that is, keep, not drop the meaning. The first time there will be a little confused, I believe that the habit will be good.\n",
    "\n",
    ">>ie： `df %>% filter(score = 90)`\n",
    "\n",
    "\n",
    "\n",
    ">`summarise ()` function is very powerful, mainly for statistical aggregation, often used in conjunction with other functions, such as calculating the average value of all students' test scores\n",
    "\n",
    ">> ie:`df %>% summarise( sd_score = sd(score))`\n",
    "\n",
    "\n",
    "\n",
    "\n",
    "\n",
    "\n",
    "\n"
   ]
  },
  {
   "cell_type": "markdown",
   "id": "f43cbf5a-1a63-4bb8-b059-eaa7cd72f9c1",
   "metadata": {},
   "source": [
    "# LAB3\n",
    "It took me two days to understand the conversion of long-width tables, which makes me feel that R language is very amazing and smart, with a huge difference from the python I learned before, as if he was born to deal with tables.\n",
    "\n",
    "Long data generally means that the variables in the data set are not clearly subdivided, i.e., there is a situation where at least one of the elements in the variables has a heavily repeated cycle of values (which can be grouped into several categories), and the overall shape of the table is rectangular, i.e., there are few variables and many observations.\n",
    "\n",
    "\n",
    "Wide data means that the data set is clearly subdivided for all variables, and the values of each variable do not have repeated cycles nor can they be categorized. The data as a whole is represented by many variables and few observations.\n",
    "\n",
    "\n",
    "\n"
   ]
  },
  {
   "cell_type": "markdown",
   "id": "93fbcb23-6827-4bfb-9c72-643cf1774b4f",
   "metadata": {},
   "source": [
    "### mutate(), select() and filter() add or subtract from the original data frame, while summarise() returns a new data frame."
   ]
  },
  {
   "cell_type": "markdown",
   "id": "471ffc96-a148-42ff-a026-c10a1943f01f",
   "metadata": {},
   "source": [
    "# lab4\n",
    "\n",
    "In lab4, we practiced how to read and write CSV and Excel tables, and this week I became more confident in my organizing skills, while assignments were enacted. By studying lab4, I have been able to start my assignment.\n",
    "\n",
    "\n",
    "\n",
    "## assignment part\n",
    "In the assignment I found that there are actually many skills that I wanted to achieve were not achieved, I think part of the reason is because my imagination is not rich enough, part of the reason is that for the basic functions of R, the loop is not enough to learn, like how to introduce other column variables while changing the value of a column, I did not continue to look deeper, I think it is not too helpful for the subsequent learning and time constraints."
   ]
  },
  {
   "cell_type": "markdown",
   "id": "fe1be40d-9bf7-4361-a284-65eedfa20a15",
   "metadata": {},
   "source": [
    "# lab5\n",
    "\n",
    "In lab5, we reacquaint ourselves with the variable types in R, using the `class()`, `typeof()`, and `mode()` functions, where they differ as follows.\n",
    "\n",
    ">mode\n",
    " The (Storage) Mode of an Object\n",
    "Description\n",
    " Get or set the type or storage mode of an object.\n",
    "\n",
    ">typeof\n",
    " The Type of an Object\n",
    "Description\n",
    " typeof determines the (R internal) type or storage mode of any object\n",
    "\n",
    ">class\n",
    " Object Classes\n",
    "Description\n",
    " R possesses a simple generic function mechanism which can be used for an object-oriented style of programming.\n",
    " Method dispatch takes place based on the class of the first argument to the generic function.\n",
    " \n",
    " \n",
    " \n",
    " \n",
    " \n",
    " After that we learned a few things related to databases, and they were all pretty helpful for our future. Like about how to join tables together and if to arrange our tables to avoid duplication."
   ]
  },
  {
   "cell_type": "markdown",
   "id": "700c3785-0700-4ddc-bcb0-d88b641479fa",
   "metadata": {},
   "source": [
    "# lab6\n",
    "\n",
    "This time I chose to solve the problem myself. After consulting a lot of information I managed to install the magick package, but it didn't work on jupyter lab, later I downloaded R studio with the help of tutor to solve it.\n",
    "\n",
    "In this lab, I learned how to change the orientation of images and other techniques."
   ]
  },
  {
   "cell_type": "markdown",
   "id": "b466ad23-1a7a-4bf8-b282-c2da0e1416f9",
   "metadata": {},
   "source": [
    "# LAB7\n",
    "\n",
    ">read_html(): download the web page.\n",
    "\n",
    ">html_nodes(): get the web page element, node with the specified name.\n",
    "\n",
    ">html_text(): get the text of the web page element, node with the specified name.\n",
    "\n",
    ">html_attrs(): get the specified URL.\n",
    "\n",
    "\n",
    "When I finished the lab I was excited to crawl other sites, but I found that the structure of the site was far more complex than the one I was crawling, and I had no prior experience with HTML. So I checked out the documentation, learned the basic structure of HTML, and got a better understanding of how to crawl the sites I needed. I plan to learn more crawling skills over the holidays, which I think is one of the coolest technologies out there!"
   ]
  },
  {
   "cell_type": "markdown",
   "id": "d1e60ff2-b78b-4dd7-86b6-bbd62518145a",
   "metadata": {},
   "source": [
    "# Lab8\n",
    "\n",
    "I was supposed to have a lab stream on Friday, but I had to get my vaccinations on Friday, so I went to the lab on Thursday. so lucky! I found my teammates that I was going to work with on Thursday, they were all locally raised students and we got along really well and we all studied really hard, it was a lucky day.\n",
    "\n",
    "\n",
    "\n",
    "\n",
    "We set the theme of the study as whether there is a relationship between earthquakes, mental problems and demographic changes, in which we rejected many ideas such as food prices, house price changes, epidemic-related data, some because we simply could not find a good, complete data set, and some because there were too many similarities with other groups."
   ]
  },
  {
   "cell_type": "markdown",
   "id": "ec2420ef-9a61-4c3d-a719-0f8b203bf515",
   "metadata": {},
   "source": [
    "# Lab 9\n",
    "\n",
    "The class I took this week had to do with big data and our lives. The school brought in a professor from Oakland University to speak to us, and I was proud of what I learned.\n",
    "\n",
    "In the lab stream I again discussed with the group what to do for this assignment and assigned tasks to everyone. The whole process was not difficult but I learned something that was not taught in the classroom by going online several times to find functions related to the completion of the assignment."
   ]
  },
  {
   "cell_type": "markdown",
   "id": "1fdb698d-35bf-4fc4-b308-130a188cba2a",
   "metadata": {},
   "source": [
    "# Lab 10\n",
    "\n",
    "While doing the group project, the due day of Assignment2 also came to me silently, and I teamed up with my group assignment team member Ada to fight against the overwhelming attack of Assignment2.\n",
    "\n",
    "\n",
    "For the constraints of network ethics we can not be in many sites to illegally crawl information, we spent the night to find a structure is not too complicated with the legal crawl of the page, I create functions, just enter the name of the board we want to crawl to crawl the relevant pages, and statistics on the categories of sites selling goods."
   ]
  },
  {
   "cell_type": "markdown",
   "id": "08f78ed1-bacd-4d80-8476-8e14f0b72371",
   "metadata": {},
   "source": [
    "# lab11\n",
    "\n",
    "\n",
    "During the week when we did not have classes, we spent all of our energy on advancing the assignment process, during which time the group enthusiastically asked eng students for advice on relevant issues. I was ashamed of myself, I had never seen anyone take the assignment so seriously, so I also learned from them and tried to analyze the hard-won data, discussing them with the group and plotting curves to observe the relationship between variables"
   ]
  },
  {
   "cell_type": "markdown",
   "id": "f487b4e6-2392-409c-b892-6ecde79c07c3",
   "metadata": {},
   "source": [
    "# Lab 12\n",
    "\n",
    "We finished compiling the data, and the group began to uncover the connections that existed in the data, making conjectures about their connections. Our presentation day was approaching, and we got together to practice, reducing the length of our scripts to 10 minutes during that time. Since my English is not that good, I practiced many times before the presentation, but I was still nervous when it came to the stage, and I felt guilty that I didn't even understand the questions while the group members were answering difficult questions from the students below one after another. Anyway, it's over! It was nice to meet them. I really learned a lot from being with them. Their approach to homework is really different from that of students who grew up with a test-based education like me, they are so enthusiastic about it and treat it as a real battle, while I just focus on how to finish the homework at first."
   ]
  },
  {
   "cell_type": "code",
   "execution_count": null,
   "id": "d0b3f8d6-dc86-4145-8bd7-713c1a996e31",
   "metadata": {},
   "outputs": [],
   "source": []
  }
 ],
 "metadata": {
  "kernelspec": {
   "display_name": "R",
   "language": "R",
   "name": "ir"
  },
  "language_info": {
   "codemirror_mode": "r",
   "file_extension": ".r",
   "mimetype": "text/x-r-source",
   "name": "R",
   "pygments_lexer": "r",
   "version": "3.6.3"
  }
 },
 "nbformat": 4,
 "nbformat_minor": 5
}
