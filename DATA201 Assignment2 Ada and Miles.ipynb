{
 "cells": [
  {
   "cell_type": "markdown",
   "metadata": {},
   "source": [
    "# Data 201\n",
    "\n",
    "Data Wrangling, S2 2021\n",
    "\n",
    "## Assignment 2: \n",
    "## Ada Mohd Izhair (75733329) & Zhenyuan He (11969443)"
   ]
  },
  {
   "cell_type": "markdown",
   "metadata": {},
   "source": [
    ">## Scraping data from Trustpilot\n",
    ">\n",
    ">In this assignment we attempt to do web scraping on a review website called 'Trustpilot'.\n",
    ">Trustpilot is a platform that hosts reviews from consumers, so that other consumers can utilise the information \n",
    ">from this site to make choices and judgements.\n",
    ">\n",
    ">We plan to extract the company/business name, the number of reviews made for the specific company, the rating, what sub-category this company belongs to,\n",
    ">and also give evaluation as to what tier the company would belong using our own methodology. "
   ]
  },
  {
   "cell_type": "code",
   "execution_count": 1,
   "metadata": {
    "tags": []
   },
   "outputs": [
    {
     "name": "stderr",
     "output_type": "stream",
     "text": [
      "Warning message in system(\"timedatectl\", intern = TRUE):\n",
      "“running command 'timedatectl' had status 1”\n",
      "── \u001b[1mAttaching packages\u001b[22m ─────────────────────────────────────────────────────────────────────────────── tidyverse 1.3.1 ──\n",
      "\n",
      "\u001b[32m✔\u001b[39m \u001b[34mggplot2\u001b[39m 3.3.5     \u001b[32m✔\u001b[39m \u001b[34mpurrr  \u001b[39m 0.3.4\n",
      "\u001b[32m✔\u001b[39m \u001b[34mtibble \u001b[39m 3.1.4     \u001b[32m✔\u001b[39m \u001b[34mdplyr  \u001b[39m 1.0.7\n",
      "\u001b[32m✔\u001b[39m \u001b[34mtidyr  \u001b[39m 1.1.3     \u001b[32m✔\u001b[39m \u001b[34mstringr\u001b[39m 1.4.0\n",
      "\u001b[32m✔\u001b[39m \u001b[34mreadr  \u001b[39m 2.0.0     \u001b[32m✔\u001b[39m \u001b[34mforcats\u001b[39m 0.5.1\n",
      "\n",
      "── \u001b[1mConflicts\u001b[22m ────────────────────────────────────────────────────────────────────────────────── tidyverse_conflicts() ──\n",
      "\u001b[31m✖\u001b[39m \u001b[34mdplyr\u001b[39m::\u001b[32mfilter()\u001b[39m masks \u001b[34mstats\u001b[39m::filter()\n",
      "\u001b[31m✖\u001b[39m \u001b[34mdplyr\u001b[39m::\u001b[32mlag()\u001b[39m    masks \u001b[34mstats\u001b[39m::lag()\n",
      "\n",
      "\n",
      "Attaching package: ‘magrittr’\n",
      "\n",
      "\n",
      "The following object is masked from ‘package:purrr’:\n",
      "\n",
      "    set_names\n",
      "\n",
      "\n",
      "The following object is masked from ‘package:tidyr’:\n",
      "\n",
      "    extract\n",
      "\n",
      "\n",
      "\n",
      "Attaching package: ‘glue’\n",
      "\n",
      "\n",
      "The following object is masked from ‘package:dplyr’:\n",
      "\n",
      "    collapse\n",
      "\n",
      "\n"
     ]
    }
   ],
   "source": [
    "library(tidyverse)\n",
    "library(magrittr) # better handling of pipes\n",
    "library(purrr) # to work with lists and map functions\n",
    "library(glue) # to paste strings\n",
    "library(stringr) # to hand strings"
   ]
  },
  {
   "cell_type": "code",
   "execution_count": 3,
   "metadata": {},
   "outputs": [
    {
     "name": "stderr",
     "output_type": "stream",
     "text": [
      "\n",
      "Attaching package: ‘rvest’\n",
      "\n",
      "\n",
      "The following object is masked from ‘package:readr’:\n",
      "\n",
      "    guess_encoding\n",
      "\n",
      "\n"
     ]
    }
   ],
   "source": [
    "library(rvest) # rvest makes scraping easier\n",
    "library(polite) # polite is the \"polite\" version of rvest\n",
    "library(xml2) # makes it easier to work with HTML and XML from R"
   ]
  },
  {
   "cell_type": "markdown",
   "metadata": {},
   "source": [
    "### Task (a): scrape it (5 marks)\n"
   ]
  },
  {
   "cell_type": "code",
   "execution_count": 4,
   "metadata": {
    "tags": []
   },
   "outputs": [],
   "source": [
    "one_link <- \"https://nz.trustpilot.com/review/flashbay.co.nz\"\n",
    "page_one_link <- one_link %>% read_html()"
   ]
  },
  {
   "cell_type": "markdown",
   "metadata": {},
   "source": [
    ">Variable \"one_link\" stores the link to one page of the Electronics category, \"Flashbay\".\n",
    ">\n",
    ">Variable \"page_one_link\" converts the link to html format, as proven in tests following."
   ]
  },
  {
   "cell_type": "code",
   "execution_count": 5,
   "metadata": {},
   "outputs": [
    {
     "data": {
      "text/html": [
       "'list'"
      ],
      "text/latex": [
       "'list'"
      ],
      "text/markdown": [
       "'list'"
      ],
      "text/plain": [
       "[1] \"list\""
      ]
     },
     "metadata": {},
     "output_type": "display_data"
    },
    {
     "name": "stdout",
     "output_type": "stream",
     "text": [
      "List of 2\n",
      " $ node:<externalptr> \n",
      " $ doc :<externalptr> \n",
      " - attr(*, \"class\")= chr [1:2] \"xml_document\" \"xml_node\"\n"
     ]
    }
   ],
   "source": [
    "page_one_link %>% typeof()\n",
    "page_one_link %>% glimpse()"
   ]
  },
  {
   "cell_type": "code",
   "execution_count": 105,
   "metadata": {},
   "outputs": [
    {
     "data": {
      "text/plain": [
       "{html_document}\n",
       "<html lang=\"en-nz\">\n",
       "[1] <head>\\n<meta http-equiv=\"Content-Type\" content=\"text/html; charset=UTF-8 ...\n",
       "[2] <body>\\n        \\n<header class=\"header header--fixed\" data-header role=\" ..."
      ]
     },
     "metadata": {},
     "output_type": "display_data"
    }
   ],
   "source": [
    "page_one_link"
   ]
  },
  {
   "cell_type": "code",
   "execution_count": 106,
   "metadata": {
    "tags": []
   },
   "outputs": [],
   "source": [
    "page_one_link %>% html_structure()"
   ]
  },
  {
   "cell_type": "markdown",
   "metadata": {},
   "source": [
    ">Below, we create selectors for each data we want to scrape from the page."
   ]
  },
  {
   "cell_type": "code",
   "execution_count": 6,
   "metadata": {
    "tags": []
   },
   "outputs": [
    {
     "data": {
      "text/html": [
       "<span style=white-space:pre-wrap>'\\n                        Flashbay\\n                    '</span>"
      ],
      "text/latex": [
       "'\\textbackslash{}n                        Flashbay\\textbackslash{}n                    '"
      ],
      "text/markdown": [
       "<span style=white-space:pre-wrap>'\\n                        Flashbay\\n                    '</span>"
      ],
      "text/plain": [
       "[1] \"\\n                        Flashbay\\n                    \""
      ]
     },
     "metadata": {},
     "output_type": "display_data"
    },
    {
     "data": {
      "text/html": [
       "'1,192'"
      ],
      "text/latex": [
       "'1,192'"
      ],
      "text/markdown": [
       "'1,192'"
      ],
      "text/plain": [
       "[1] \"1,192\""
      ]
     },
     "metadata": {},
     "output_type": "display_data"
    },
    {
     "data": {
      "text/html": [
       "'5.0'"
      ],
      "text/latex": [
       "'5.0'"
      ],
      "text/markdown": [
       "'5.0'"
      ],
      "text/plain": [
       "[1] \"5.0\""
      ]
     },
     "metadata": {},
     "output_type": "display_data"
    },
    {
     "data": {
      "text/html": [
       "'Drives and Storage Service'"
      ],
      "text/latex": [
       "'Drives and Storage Service'"
      ],
      "text/markdown": [
       "'Drives and Storage Service'"
      ],
      "text/plain": [
       "[1] \"Drives and Storage Service\""
      ]
     },
     "metadata": {},
     "output_type": "display_data"
    }
   ],
   "source": [
    "company_name_selector <- 'body > main > div > div.placeholder > div > div.company-profile-header > section.company-summary > div > div.right-section > section > h1 > span.multi-size-header__big'\n",
    "review_count_selector <- 'body > main > div > div.company-profile-body > section > div.reviews-overview > div.card.card--related > div.reviews-overview-header > h2 > span'\n",
    "rating_selector <- 'body > main > div > div.placeholder > div > div.company-profile-header > section.company-summary > div > div.right-section > div > div.trustscore_container > p'\n",
    "category_selector <- 'body > main > div > div.placeholder > div > div.company-profile-header > section.company-summary > div > div.right-section > p > a'\n",
    "\n",
    "company_name <- page_one_link %>% \n",
    "    html_elements(company_name_selector) %>% html_text\n",
    "\n",
    "review_count <- page_one_link %>% \n",
    "    html_elements(review_count_selector) %>% html_text\n",
    "\n",
    "company_rating <- page_one_link %>% \n",
    "    html_elements(rating_selector) %>% html_text\n",
    "\n",
    "company_category <- page_one_link %>% \n",
    "    html_elements(category_selector) %>% html_text\n",
    "\n",
    "company_name\n",
    "review_count\n",
    "company_rating\n",
    "company_category"
   ]
  },
  {
   "cell_type": "markdown",
   "metadata": {},
   "source": [
    ">Tests above show that each selector works as intended, although the data extracted is slightly messy.\n",
    ">\n",
    ">We then use these selectors to build up functions to extract each element on the page:"
   ]
  },
  {
   "cell_type": "code",
   "execution_count": 7,
   "metadata": {},
   "outputs": [],
   "source": [
    "# Individual get functions for each category\n",
    "\n",
    "get_company_name <- function(page_one_link){\n",
    "    company_name <- page_one_link %>%\n",
    "             html_elements(company_name_selector) %>%\n",
    "             html_text\n",
    "    return(company_name)\n",
    "}\n",
    "\n",
    "get_review_count <- function(page_one_link){\n",
    "    review_count <- page_one_link %>%\n",
    "             html_elements(review_count_selector) %>%\n",
    "             html_text\n",
    "    return(review_count)\n",
    "}\n",
    "\n",
    "get_company_rating <- function(page_one_link){\n",
    "    company_rating <- page_one_link %>%\n",
    "             html_elements(rating_selector) %>%\n",
    "             html_text\n",
    "    return(company_rating)\n",
    "}\n",
    "\n",
    "get_sub_category <- function(page_one_link){\n",
    "    company_category <- page_one_link %>%\n",
    "             html_elements(category_selector) %>%\n",
    "             html_text\n",
    "    return(company_category)\n",
    "}\n"
   ]
  },
  {
   "cell_type": "markdown",
   "metadata": {},
   "source": [
    ">For efficiency, these can be combined into one whole function to extract all the necessary information on one page within one function\n",
    "    >and store all information in a newly created dataframe:"
   ]
  },
  {
   "cell_type": "code",
   "execution_count": 8,
   "metadata": {},
   "outputs": [
    {
     "data": {
      "text/html": [
       "<table class=\"dataframe\">\n",
       "<caption>A tibble: 1 × 4</caption>\n",
       "<thead>\n",
       "\t<tr><th scope=col>Company</th><th scope=col>Reviews</th><th scope=col>Rating</th><th scope=col>Category</th></tr>\n",
       "\t<tr><th scope=col>&lt;chr&gt;</th><th scope=col>&lt;chr&gt;</th><th scope=col>&lt;chr&gt;</th><th scope=col>&lt;chr&gt;</th></tr>\n",
       "</thead>\n",
       "<tbody>\n",
       "\t<tr><td>\n",
       "                        Flashbay\n",
       "                    </td><td>1,192</td><td>5.0</td><td>Drives and Storage Service</td></tr>\n",
       "</tbody>\n",
       "</table>\n"
      ],
      "text/latex": [
       "A tibble: 1 × 4\n",
       "\\begin{tabular}{llll}\n",
       " Company & Reviews & Rating & Category\\\\\n",
       " <chr> & <chr> & <chr> & <chr>\\\\\n",
       "\\hline\n",
       "\t \n",
       "                        Flashbay\n",
       "                     & 1,192 & 5.0 & Drives and Storage Service\\\\\n",
       "\\end{tabular}\n"
      ],
      "text/markdown": [
       "\n",
       "A tibble: 1 × 4\n",
       "\n",
       "| Company &lt;chr&gt; | Reviews &lt;chr&gt; | Rating &lt;chr&gt; | Category &lt;chr&gt; |\n",
       "|---|---|---|---|\n",
       "| \n",
       "                        Flashbay\n",
       "                     | 1,192 | 5.0 | Drives and Storage Service |\n",
       "\n"
      ],
      "text/plain": [
       "  Company                                                  Reviews Rating\n",
       "1 \\n                        Flashbay\\n                     1,192   5.0   \n",
       "  Category                  \n",
       "1 Drives and Storage Service"
      ]
     },
     "metadata": {},
     "output_type": "display_data"
    }
   ],
   "source": [
    "# Functions combined into one, create a dataframe.\n",
    "\n",
    "get_company_deets <- function(link){\n",
    "    \n",
    "    page <- link %>% read_html()\n",
    "    \n",
    "    company <- page %>% html_elements(company_name_selector) %>% html_text\n",
    "    review_count <- page %>% html_elements(review_count_selector) %>% html_text\n",
    "    rating <- page %>% html_elements(rating_selector) %>% html_text\n",
    "    category <- page %>% html_elements(category_selector) %>% html_text\n",
    "    \n",
    "    tp_category_df <- tibble(Company = company, Reviews = review_count, Rating = rating, Category = category)\n",
    "    return(tp_category_df)\n",
    "}\n",
    "\n",
    "# Testing that the above function works:\n",
    "\n",
    "get_company_deets(one_link)"
   ]
  },
  {
   "cell_type": "markdown",
   "metadata": {},
   "source": [
    ">This function allows us to extract the information on one company on one page link."
   ]
  },
  {
   "cell_type": "markdown",
   "metadata": {
    "tags": []
   },
   "source": [
    "### Task (b): wrangle it (5 marks)\n"
   ]
  },
  {
   "cell_type": "code",
   "execution_count": 9,
   "metadata": {
    "tags": []
   },
   "outputs": [
    {
     "name": "stdout",
     "output_type": "stream",
     "text": [
      "Rows: 1\n",
      "Columns: 4\n",
      "$ Company  \u001b[3m\u001b[90m<chr>\u001b[39m\u001b[23m \"\\n                        Flashbay\\n                    \"\n",
      "$ Reviews  \u001b[3m\u001b[90m<chr>\u001b[39m\u001b[23m \"1,192\"\n",
      "$ Rating   \u001b[3m\u001b[90m<chr>\u001b[39m\u001b[23m \"5.0\"\n",
      "$ Category \u001b[3m\u001b[90m<chr>\u001b[39m\u001b[23m \"Drives and Storage Service\"\n"
     ]
    }
   ],
   "source": [
    "tp_category_df <- get_company_deets(one_link)\n",
    "tp_category_df %>% glimpse()"
   ]
  },
  {
   "cell_type": "markdown",
   "metadata": {},
   "source": [
    "\n",
    "    \n",
    "> **Findings and Comments on current dataframe**\n",
    ">\n",
    ">As seen above, the dataframe currently consists of 4 columns: Company, Reviews, Rating, and Category.\n",
    "Evident problems in the scraped data put into this dataframe are:\n",
    ">\n",
    ">- Company name contains unnecessary lines and spaces\n",
    ">- Reviews is of string form with ',' formatting therefore this will be hard to work on unless converted to integer.\n",
    ">- Rating is of string form, needs to be converted to integer for further investigation."
   ]
  },
  {
   "cell_type": "code",
   "execution_count": 10,
   "metadata": {},
   "outputs": [
    {
     "name": "stdout",
     "output_type": "stream",
     "text": [
      "Rows: 1\n",
      "Columns: 4\n",
      "$ Company  \u001b[3m\u001b[90m<chr>\u001b[39m\u001b[23m \"Flashbay\"\n",
      "$ Reviews  \u001b[3m\u001b[90m<int>\u001b[39m\u001b[23m 1192\n",
      "$ Rating   \u001b[3m\u001b[90m<dbl>\u001b[39m\u001b[23m 5\n",
      "$ Category \u001b[3m\u001b[90m<chr>\u001b[39m\u001b[23m \"Drives and Storage Service\"\n"
     ]
    }
   ],
   "source": [
    "tp_category_df %<>%\n",
    "    mutate(Company = Company %>% str_squish(),\n",
    "           Reviews = Reviews %>% str_remove_all('[,]') %>% as.integer(),\n",
    "           Rating = Rating %>% as.double())\n",
    "\n",
    "tp_category_df %>% glimpse()"
   ]
  },
  {
   "cell_type": "markdown",
   "metadata": {},
   "source": [
    "\n",
    "\n",
    "\n",
    "> **Explanation on changes to dataframe**\n",
    ">\n",
    ">Changes done in dataframe that account for problems stated earlier:\n",
    ">\n",
    ">- Use of str_squish() to remove unnecessary lines and spaces. \n",
    ">- Any ',' characters in the Reviews string are removed, then converted to integer values.\n",
    ">- Rating is now of integer form.\n",
    ">\n",
    "\n",
    "> **Creating a new column in dataframe**\n",
    ">\n",
    ">Implement a Tier column to categorize the companies into different tiers according to their rating scores:"
   ]
  },
  {
   "cell_type": "code",
   "execution_count": 11,
   "metadata": {},
   "outputs": [],
   "source": [
    "tp_category_df %<>%\n",
    "    mutate(Tier = case_when(4 < Rating & Rating <= 5 ~ \"Excellent\", \n",
    "                            3 < Rating & Rating <= 4 ~ \"Great\", \n",
    "                            2 < Rating & Rating <= 3 ~ \"Average\", \n",
    "                            1 < Rating & Rating <= 2 ~ \"Poor\", \n",
    "                            TRUE ~ \"Bad\"))\n"
   ]
  },
  {
   "cell_type": "code",
   "execution_count": 12,
   "metadata": {},
   "outputs": [
    {
     "data": {
      "text/html": [
       "<table class=\"dataframe\">\n",
       "<caption>A tibble: 1 × 5</caption>\n",
       "<thead>\n",
       "\t<tr><th scope=col>Company</th><th scope=col>Reviews</th><th scope=col>Rating</th><th scope=col>Category</th><th scope=col>Tier</th></tr>\n",
       "\t<tr><th scope=col>&lt;chr&gt;</th><th scope=col>&lt;int&gt;</th><th scope=col>&lt;dbl&gt;</th><th scope=col>&lt;chr&gt;</th><th scope=col>&lt;chr&gt;</th></tr>\n",
       "</thead>\n",
       "<tbody>\n",
       "\t<tr><td>Flashbay</td><td>1192</td><td>5</td><td>Drives and Storage Service</td><td>Excellent</td></tr>\n",
       "</tbody>\n",
       "</table>\n"
      ],
      "text/latex": [
       "A tibble: 1 × 5\n",
       "\\begin{tabular}{lllll}\n",
       " Company & Reviews & Rating & Category & Tier\\\\\n",
       " <chr> & <int> & <dbl> & <chr> & <chr>\\\\\n",
       "\\hline\n",
       "\t Flashbay & 1192 & 5 & Drives and Storage Service & Excellent\\\\\n",
       "\\end{tabular}\n"
      ],
      "text/markdown": [
       "\n",
       "A tibble: 1 × 5\n",
       "\n",
       "| Company &lt;chr&gt; | Reviews &lt;int&gt; | Rating &lt;dbl&gt; | Category &lt;chr&gt; | Tier &lt;chr&gt; |\n",
       "|---|---|---|---|---|\n",
       "| Flashbay | 1192 | 5 | Drives and Storage Service | Excellent |\n",
       "\n"
      ],
      "text/plain": [
       "  Company  Reviews Rating Category                   Tier     \n",
       "1 Flashbay 1192    5      Drives and Storage Service Excellent"
      ]
     },
     "metadata": {},
     "output_type": "display_data"
    }
   ],
   "source": [
    "tp_category_df # Testing to see the new column"
   ]
  },
  {
   "cell_type": "markdown",
   "metadata": {
    "tags": []
   },
   "source": [
    ">We can see a newly added column of Tiers, this is to see how many companies are categorized in different Tiers.\n",
    ">\n",
    ">**Combining all into one function to generate a dataframe**:"
   ]
  },
  {
   "cell_type": "code",
   "execution_count": 13,
   "metadata": {},
   "outputs": [
    {
     "data": {
      "text/html": [
       "<table class=\"dataframe\">\n",
       "<caption>A tibble: 1 × 5</caption>\n",
       "<thead>\n",
       "\t<tr><th scope=col>Company</th><th scope=col>Reviews</th><th scope=col>Rating</th><th scope=col>Category</th><th scope=col>Tier</th></tr>\n",
       "\t<tr><th scope=col>&lt;chr&gt;</th><th scope=col>&lt;int&gt;</th><th scope=col>&lt;dbl&gt;</th><th scope=col>&lt;chr&gt;</th><th scope=col>&lt;chr&gt;</th></tr>\n",
       "</thead>\n",
       "<tbody>\n",
       "\t<tr><td>Flashbay</td><td>1192</td><td>5</td><td>Drives and Storage Service</td><td>Excellent</td></tr>\n",
       "</tbody>\n",
       "</table>\n"
      ],
      "text/latex": [
       "A tibble: 1 × 5\n",
       "\\begin{tabular}{lllll}\n",
       " Company & Reviews & Rating & Category & Tier\\\\\n",
       " <chr> & <int> & <dbl> & <chr> & <chr>\\\\\n",
       "\\hline\n",
       "\t Flashbay & 1192 & 5 & Drives and Storage Service & Excellent\\\\\n",
       "\\end{tabular}\n"
      ],
      "text/markdown": [
       "\n",
       "A tibble: 1 × 5\n",
       "\n",
       "| Company &lt;chr&gt; | Reviews &lt;int&gt; | Rating &lt;dbl&gt; | Category &lt;chr&gt; | Tier &lt;chr&gt; |\n",
       "|---|---|---|---|---|\n",
       "| Flashbay | 1192 | 5 | Drives and Storage Service | Excellent |\n",
       "\n"
      ],
      "text/plain": [
       "  Company  Reviews Rating Category                   Tier     \n",
       "1 Flashbay 1192    5      Drives and Storage Service Excellent"
      ]
     },
     "metadata": {},
     "output_type": "display_data"
    }
   ],
   "source": [
    "# Create a generate df function\n",
    "\n",
    "generate_tp_category_df <- function(one_link){\n",
    "    tp_category_df <- get_company_deets(one_link)\n",
    "    \n",
    "    tp_category_df %>%\n",
    "    mutate(Company = Company %>% str_squish(),\n",
    "           Reviews = Reviews %>% str_remove_all('[,]') %>% as.integer(),\n",
    "           Rating = Rating %>% as.double(), \n",
    "           Tier = case_when(4.5 < Rating & Rating <= 5 ~ \"Excellent\", \n",
    "                            3 < Rating & Rating <= 4.5 ~ \"Great\", \n",
    "                            2 < Rating & Rating <= 3 ~ \"Average\", \n",
    "                            1 < Rating & Rating <= 2 ~ \"Poor\", \n",
    "                            TRUE ~ \"Bad\")) \n",
    "}\n",
    "\n",
    "generate_tp_category_df(one_link) # Testing that the function works as expected"
   ]
  },
  {
   "cell_type": "markdown",
   "metadata": {},
   "source": [
    "### Task (c): automate it (5 marks)\n"
   ]
  },
  {
   "cell_type": "markdown",
   "metadata": {},
   "source": [
    ">Attempting to automate the scraping process across different companies on the site.\n",
    ">\n",
    ">Beginning with collecting list of urls"
   ]
  },
  {
   "cell_type": "code",
   "execution_count": 14,
   "metadata": {},
   "outputs": [
    {
     "data": {
      "text/html": [
       "<table class=\"dataframe\">\n",
       "<caption>A tibble: 34 × 1</caption>\n",
       "<thead>\n",
       "\t<tr><th scope=col>all_web</th></tr>\n",
       "\t<tr><th scope=col>&lt;chr&gt;</th></tr>\n",
       "</thead>\n",
       "<tbody>\n",
       "\t<tr><td>/review/flashbay.co.nz                </td></tr>\n",
       "\t<tr><td>/review/www.avstore.co.nz             </td></tr>\n",
       "\t<tr><td>/review/www.mightyape.co.nz           </td></tr>\n",
       "\t<tr><td>/review/portableappliancetesters.co.nz</td></tr>\n",
       "\t<tr><td>/review/equipo.co.nz                  </td></tr>\n",
       "\t<tr><td>/review/onlydomains.com               </td></tr>\n",
       "\t<tr><td>/review/supero.co.nz                  </td></tr>\n",
       "\t<tr><td>/review/www.luminpdf.com              </td></tr>\n",
       "\t<tr><td>/review/thunderstore.nz               </td></tr>\n",
       "\t<tr><td>/review/mylayby.co.nz                 </td></tr>\n",
       "\t<tr><td>/review/myrepublic.co.nz              </td></tr>\n",
       "\t<tr><td>/review/aplyid.com                    </td></tr>\n",
       "\t<tr><td>/review/cccambox.com                  </td></tr>\n",
       "\t<tr><td>/review/crazydomains.co.nz            </td></tr>\n",
       "\t<tr><td>/review/flashbay.co.nz                </td></tr>\n",
       "\t<tr><td>/review/www.avstore.co.nz             </td></tr>\n",
       "\t<tr><td>/review/www.mightyape.co.nz           </td></tr>\n",
       "\t<tr><td>/review/portableappliancetesters.co.nz</td></tr>\n",
       "\t<tr><td>/review/equipo.co.nz                  </td></tr>\n",
       "\t<tr><td>/review/onlydomains.com               </td></tr>\n",
       "\t<tr><td>/review/emsisoft.com                  </td></tr>\n",
       "\t<tr><td>/review/supero.co.nz                  </td></tr>\n",
       "\t<tr><td>/review/cackle.co.nz                  </td></tr>\n",
       "\t<tr><td>/review/www.netnest.co.nz             </td></tr>\n",
       "\t<tr><td>/review/qnapsource.nz                 </td></tr>\n",
       "\t<tr><td>/review/nzgameshop.com                </td></tr>\n",
       "\t<tr><td>/review/www.printzone.net.nz          </td></tr>\n",
       "\t<tr><td>/review/www.luminpdf.com              </td></tr>\n",
       "\t<tr><td>/review/thunderstore.nz               </td></tr>\n",
       "\t<tr><td>/review/mobilesignalboosters.co.nz    </td></tr>\n",
       "\t<tr><td>/review/sgtechstore.co.nz             </td></tr>\n",
       "\t<tr><td>/review/itnest.co.nz                  </td></tr>\n",
       "\t<tr><td>/review/virtualrealityrental.co.nz    </td></tr>\n",
       "\t<tr><td>/review/mylayby.co.nz                 </td></tr>\n",
       "</tbody>\n",
       "</table>\n"
      ],
      "text/latex": [
       "A tibble: 34 × 1\n",
       "\\begin{tabular}{l}\n",
       " all\\_web\\\\\n",
       " <chr>\\\\\n",
       "\\hline\n",
       "\t /review/flashbay.co.nz                \\\\\n",
       "\t /review/www.avstore.co.nz             \\\\\n",
       "\t /review/www.mightyape.co.nz           \\\\\n",
       "\t /review/portableappliancetesters.co.nz\\\\\n",
       "\t /review/equipo.co.nz                  \\\\\n",
       "\t /review/onlydomains.com               \\\\\n",
       "\t /review/supero.co.nz                  \\\\\n",
       "\t /review/www.luminpdf.com              \\\\\n",
       "\t /review/thunderstore.nz               \\\\\n",
       "\t /review/mylayby.co.nz                 \\\\\n",
       "\t /review/myrepublic.co.nz              \\\\\n",
       "\t /review/aplyid.com                    \\\\\n",
       "\t /review/cccambox.com                  \\\\\n",
       "\t /review/crazydomains.co.nz            \\\\\n",
       "\t /review/flashbay.co.nz                \\\\\n",
       "\t /review/www.avstore.co.nz             \\\\\n",
       "\t /review/www.mightyape.co.nz           \\\\\n",
       "\t /review/portableappliancetesters.co.nz\\\\\n",
       "\t /review/equipo.co.nz                  \\\\\n",
       "\t /review/onlydomains.com               \\\\\n",
       "\t /review/emsisoft.com                  \\\\\n",
       "\t /review/supero.co.nz                  \\\\\n",
       "\t /review/cackle.co.nz                  \\\\\n",
       "\t /review/www.netnest.co.nz             \\\\\n",
       "\t /review/qnapsource.nz                 \\\\\n",
       "\t /review/nzgameshop.com                \\\\\n",
       "\t /review/www.printzone.net.nz          \\\\\n",
       "\t /review/www.luminpdf.com              \\\\\n",
       "\t /review/thunderstore.nz               \\\\\n",
       "\t /review/mobilesignalboosters.co.nz    \\\\\n",
       "\t /review/sgtechstore.co.nz             \\\\\n",
       "\t /review/itnest.co.nz                  \\\\\n",
       "\t /review/virtualrealityrental.co.nz    \\\\\n",
       "\t /review/mylayby.co.nz                 \\\\\n",
       "\\end{tabular}\n"
      ],
      "text/markdown": [
       "\n",
       "A tibble: 34 × 1\n",
       "\n",
       "| all_web &lt;chr&gt; |\n",
       "|---|\n",
       "| /review/flashbay.co.nz                 |\n",
       "| /review/www.avstore.co.nz              |\n",
       "| /review/www.mightyape.co.nz            |\n",
       "| /review/portableappliancetesters.co.nz |\n",
       "| /review/equipo.co.nz                   |\n",
       "| /review/onlydomains.com                |\n",
       "| /review/supero.co.nz                   |\n",
       "| /review/www.luminpdf.com               |\n",
       "| /review/thunderstore.nz                |\n",
       "| /review/mylayby.co.nz                  |\n",
       "| /review/myrepublic.co.nz               |\n",
       "| /review/aplyid.com                     |\n",
       "| /review/cccambox.com                   |\n",
       "| /review/crazydomains.co.nz             |\n",
       "| /review/flashbay.co.nz                 |\n",
       "| /review/www.avstore.co.nz              |\n",
       "| /review/www.mightyape.co.nz            |\n",
       "| /review/portableappliancetesters.co.nz |\n",
       "| /review/equipo.co.nz                   |\n",
       "| /review/onlydomains.com                |\n",
       "| /review/emsisoft.com                   |\n",
       "| /review/supero.co.nz                   |\n",
       "| /review/cackle.co.nz                   |\n",
       "| /review/www.netnest.co.nz              |\n",
       "| /review/qnapsource.nz                  |\n",
       "| /review/nzgameshop.com                 |\n",
       "| /review/www.printzone.net.nz           |\n",
       "| /review/www.luminpdf.com               |\n",
       "| /review/thunderstore.nz                |\n",
       "| /review/mobilesignalboosters.co.nz     |\n",
       "| /review/sgtechstore.co.nz              |\n",
       "| /review/itnest.co.nz                   |\n",
       "| /review/virtualrealityrental.co.nz     |\n",
       "| /review/mylayby.co.nz                  |\n",
       "\n"
      ],
      "text/plain": [
       "   all_web                               \n",
       "1  /review/flashbay.co.nz                \n",
       "2  /review/www.avstore.co.nz             \n",
       "3  /review/www.mightyape.co.nz           \n",
       "4  /review/portableappliancetesters.co.nz\n",
       "5  /review/equipo.co.nz                  \n",
       "6  /review/onlydomains.com               \n",
       "7  /review/supero.co.nz                  \n",
       "8  /review/www.luminpdf.com              \n",
       "9  /review/thunderstore.nz               \n",
       "10 /review/mylayby.co.nz                 \n",
       "11 /review/myrepublic.co.nz              \n",
       "12 /review/aplyid.com                    \n",
       "13 /review/cccambox.com                  \n",
       "14 /review/crazydomains.co.nz            \n",
       "15 /review/flashbay.co.nz                \n",
       "16 /review/www.avstore.co.nz             \n",
       "17 /review/www.mightyape.co.nz           \n",
       "18 /review/portableappliancetesters.co.nz\n",
       "19 /review/equipo.co.nz                  \n",
       "20 /review/onlydomains.com               \n",
       "21 /review/emsisoft.com                  \n",
       "22 /review/supero.co.nz                  \n",
       "23 /review/cackle.co.nz                  \n",
       "24 /review/www.netnest.co.nz             \n",
       "25 /review/qnapsource.nz                 \n",
       "26 /review/nzgameshop.com                \n",
       "27 /review/www.printzone.net.nz          \n",
       "28 /review/www.luminpdf.com              \n",
       "29 /review/thunderstore.nz               \n",
       "30 /review/mobilesignalboosters.co.nz    \n",
       "31 /review/sgtechstore.co.nz             \n",
       "32 /review/itnest.co.nz                  \n",
       "33 /review/virtualrealityrental.co.nz    \n",
       "34 /review/mylayby.co.nz                 "
      ]
     },
     "metadata": {},
     "output_type": "display_data"
    }
   ],
   "source": [
    "web <- \"https://nz.trustpilot.com/categories/electronics_technology\"\n",
    "websites <- web %>% read_html() %>% html_nodes(\".styles_businessUnitCardsContainer__1ggaO\")\n",
    "all_web <- websites %>% html_nodes(\"a\") %>% html_attrs() %>% map_chr(\"href\")\n",
    "linklist <- tibble(all_web)\n",
    "\n",
    "linklist # Testing to see if links are gathered correctly"
   ]
  },
  {
   "cell_type": "markdown",
   "metadata": {},
   "source": [
    ">Generating a holder dataframe to be used to store values:"
   ]
  },
  {
   "cell_type": "code",
   "execution_count": 155,
   "metadata": {},
   "outputs": [
    {
     "data": {
      "text/html": [
       "<table class=\"dataframe\">\n",
       "<caption>A tibble: 0 × 5</caption>\n",
       "<thead>\n",
       "\t<tr><th scope=col>Company</th><th scope=col>Reviews</th><th scope=col>Rating</th><th scope=col>Category</th><th scope=col>Tier</th></tr>\n",
       "\t<tr><th scope=col>&lt;chr&gt;</th><th scope=col>&lt;int&gt;</th><th scope=col>&lt;int&gt;</th><th scope=col>&lt;chr&gt;</th><th scope=col>&lt;chr&gt;</th></tr>\n",
       "</thead>\n",
       "<tbody>\n",
       "</tbody>\n",
       "</table>\n"
      ],
      "text/latex": [
       "A tibble: 0 × 5\n",
       "\\begin{tabular}{lllll}\n",
       " Company & Reviews & Rating & Category & Tier\\\\\n",
       " <chr> & <int> & <int> & <chr> & <chr>\\\\\n",
       "\\hline\n",
       "\\end{tabular}\n"
      ],
      "text/markdown": [
       "\n",
       "A tibble: 0 × 5\n",
       "\n",
       "| Company &lt;chr&gt; | Reviews &lt;int&gt; | Rating &lt;int&gt; | Category &lt;chr&gt; | Tier &lt;chr&gt; |\n",
       "|---|---|---|---|---|\n",
       "\n"
      ],
      "text/plain": [
       "     Company Reviews Rating Category Tier"
      ]
     },
     "metadata": {},
     "output_type": "display_data"
    }
   ],
   "source": [
    "# Holder dataframe with empty rows \n",
    "tp_df_holder <- tibble(Company=character(), Reviews=integer(), Rating=integer(), Category=character(), Tier=character(), .rows = NULL)\n",
    "tp_df_holder "
   ]
  },
  {
   "cell_type": "markdown",
   "metadata": {},
   "source": [
    ">We then automate through each company link in all_web to extract the information and store these values into the holder dataframe:"
   ]
  },
  {
   "cell_type": "code",
   "execution_count": 156,
   "metadata": {
    "tags": []
   },
   "outputs": [],
   "source": [
    "for (link in all_web){\n",
    "    url <- glue('https://nz.trustpilot.com/{link}')\n",
    "    temp <- generate_tp_category_df(url) \n",
    "    tp_df_holder %<>% \n",
    "    add_row(temp[1,])\n",
    "}"
   ]
  },
  {
   "cell_type": "code",
   "execution_count": 157,
   "metadata": {
    "tags": []
   },
   "outputs": [
    {
     "data": {
      "text/html": [
       "<table class=\"dataframe\">\n",
       "<caption>A tibble: 34 × 5</caption>\n",
       "<thead>\n",
       "\t<tr><th scope=col>Company</th><th scope=col>Reviews</th><th scope=col>Rating</th><th scope=col>Category</th><th scope=col>Tier</th></tr>\n",
       "\t<tr><th scope=col>&lt;chr&gt;</th><th scope=col>&lt;int&gt;</th><th scope=col>&lt;dbl&gt;</th><th scope=col>&lt;chr&gt;</th><th scope=col>&lt;chr&gt;</th></tr>\n",
       "</thead>\n",
       "<tbody>\n",
       "\t<tr><td>Flashbay                  </td><td>1192</td><td>5.0</td><td>Drives and Storage Service         </td><td>Excellent</td></tr>\n",
       "\t<tr><td>Avstore                   </td><td> 235</td><td>4.9</td><td>Audio Visual Equipment Supplier    </td><td>Excellent</td></tr>\n",
       "\t<tr><td>Mighty Ape                </td><td>3080</td><td>4.9</td><td>Gaming service Provider            </td><td>Excellent</td></tr>\n",
       "\t<tr><td>Appliance Testing Supplies</td><td> 133</td><td>4.8</td><td>Electronics Company                </td><td>Excellent</td></tr>\n",
       "\t<tr><td>Equipo.co.nz              </td><td>  69</td><td>4.8</td><td>Watch Store                        </td><td>Excellent</td></tr>\n",
       "\t<tr><td>OnlyDomains               </td><td>1887</td><td>4.7</td><td>e-Commerce Service                 </td><td>Excellent</td></tr>\n",
       "\t<tr><td>Supero                    </td><td> 638</td><td>4.6</td><td>Electronics Store                  </td><td>Excellent</td></tr>\n",
       "\t<tr><td>Lumin PDF                 </td><td> 192</td><td>4.5</td><td>Software Company                   </td><td>Great    </td></tr>\n",
       "\t<tr><td>Thunder Store             </td><td>  37</td><td>4.5</td><td>Computer Store                     </td><td>Great    </td></tr>\n",
       "\t<tr><td>My Layby New Zealand      </td><td> 248</td><td>4.3</td><td>Department Store                   </td><td>Great    </td></tr>\n",
       "\t<tr><td>MyRepublic New Zealand    </td><td>  53</td><td>4.0</td><td>Internet Service Provider          </td><td>Great    </td></tr>\n",
       "\t<tr><td>APLYiD                    </td><td>  32</td><td>4.0</td><td>Software Company                   </td><td>Great    </td></tr>\n",
       "\t<tr><td>CCCAMBOX TV               </td><td> 576</td><td>3.9</td><td>Telecommunications Service Provider</td><td>Great    </td></tr>\n",
       "\t<tr><td>Crazy Domains             </td><td> 170</td><td>3.4</td><td>VPN Service                        </td><td>Great    </td></tr>\n",
       "\t<tr><td>Flashbay                  </td><td>1192</td><td>5.0</td><td>Drives and Storage Service         </td><td>Excellent</td></tr>\n",
       "\t<tr><td>Avstore                   </td><td> 235</td><td>4.9</td><td>Audio Visual Equipment Supplier    </td><td>Excellent</td></tr>\n",
       "\t<tr><td>Mighty Ape                </td><td>3080</td><td>4.9</td><td>Gaming service Provider            </td><td>Excellent</td></tr>\n",
       "\t<tr><td>Appliance Testing Supplies</td><td> 133</td><td>4.8</td><td>Electronics Company                </td><td>Excellent</td></tr>\n",
       "\t<tr><td>Equipo.co.nz              </td><td>  69</td><td>4.8</td><td>Watch Store                        </td><td>Excellent</td></tr>\n",
       "\t<tr><td>OnlyDomains               </td><td>1887</td><td>4.7</td><td>e-Commerce Service                 </td><td>Excellent</td></tr>\n",
       "\t<tr><td>Emsisoft                  </td><td>  45</td><td>4.7</td><td>Software Company                   </td><td>Excellent</td></tr>\n",
       "\t<tr><td>Supero                    </td><td> 638</td><td>4.6</td><td>Electronics Store                  </td><td>Excellent</td></tr>\n",
       "\t<tr><td>Cackle Telecommunications </td><td> 117</td><td>4.6</td><td>Phone and Internet Service         </td><td>Excellent</td></tr>\n",
       "\t<tr><td>NetNest New Zealand       </td><td>  26</td><td>4.6</td><td>Computer and Accessories Store     </td><td>Excellent</td></tr>\n",
       "\t<tr><td>QNAP Source               </td><td>  22</td><td>4.6</td><td>Computer and Accessories Store     </td><td>Excellent</td></tr>\n",
       "\t<tr><td>nzgameshop.com            </td><td>3442</td><td>4.5</td><td>Video Game Store                   </td><td>Great    </td></tr>\n",
       "\t<tr><td>Printzone                 </td><td> 593</td><td>4.5</td><td>Office Supply Store                </td><td>Great    </td></tr>\n",
       "\t<tr><td>Lumin PDF                 </td><td> 192</td><td>4.5</td><td>Software Company                   </td><td>Great    </td></tr>\n",
       "\t<tr><td>Thunder Store             </td><td>  37</td><td>4.5</td><td>Computer Store                     </td><td>Great    </td></tr>\n",
       "\t<tr><td>Signalboosters New Zealand</td><td>  32</td><td>4.5</td><td>Telecommunications Service Provider</td><td>Great    </td></tr>\n",
       "\t<tr><td>Sgtechstore               </td><td>  15</td><td>4.5</td><td>Electronics Company                </td><td>Great    </td></tr>\n",
       "\t<tr><td>ITNest New Zealand        </td><td>  20</td><td>4.4</td><td>Computer Store                     </td><td>Great    </td></tr>\n",
       "\t<tr><td>Virtual Reality Rental    </td><td>  14</td><td>4.5</td><td>Electronics Hire Shop              </td><td>Great    </td></tr>\n",
       "\t<tr><td>My Layby New Zealand      </td><td> 248</td><td>4.3</td><td>Department Store                   </td><td>Great    </td></tr>\n",
       "</tbody>\n",
       "</table>\n"
      ],
      "text/latex": [
       "A tibble: 34 × 5\n",
       "\\begin{tabular}{lllll}\n",
       " Company & Reviews & Rating & Category & Tier\\\\\n",
       " <chr> & <int> & <dbl> & <chr> & <chr>\\\\\n",
       "\\hline\n",
       "\t Flashbay                   & 1192 & 5.0 & Drives and Storage Service          & Excellent\\\\\n",
       "\t Avstore                    &  235 & 4.9 & Audio Visual Equipment Supplier     & Excellent\\\\\n",
       "\t Mighty Ape                 & 3080 & 4.9 & Gaming service Provider             & Excellent\\\\\n",
       "\t Appliance Testing Supplies &  133 & 4.8 & Electronics Company                 & Excellent\\\\\n",
       "\t Equipo.co.nz               &   69 & 4.8 & Watch Store                         & Excellent\\\\\n",
       "\t OnlyDomains                & 1887 & 4.7 & e-Commerce Service                  & Excellent\\\\\n",
       "\t Supero                     &  638 & 4.6 & Electronics Store                   & Excellent\\\\\n",
       "\t Lumin PDF                  &  192 & 4.5 & Software Company                    & Great    \\\\\n",
       "\t Thunder Store              &   37 & 4.5 & Computer Store                      & Great    \\\\\n",
       "\t My Layby New Zealand       &  248 & 4.3 & Department Store                    & Great    \\\\\n",
       "\t MyRepublic New Zealand     &   53 & 4.0 & Internet Service Provider           & Great    \\\\\n",
       "\t APLYiD                     &   32 & 4.0 & Software Company                    & Great    \\\\\n",
       "\t CCCAMBOX TV                &  576 & 3.9 & Telecommunications Service Provider & Great    \\\\\n",
       "\t Crazy Domains              &  170 & 3.4 & VPN Service                         & Great    \\\\\n",
       "\t Flashbay                   & 1192 & 5.0 & Drives and Storage Service          & Excellent\\\\\n",
       "\t Avstore                    &  235 & 4.9 & Audio Visual Equipment Supplier     & Excellent\\\\\n",
       "\t Mighty Ape                 & 3080 & 4.9 & Gaming service Provider             & Excellent\\\\\n",
       "\t Appliance Testing Supplies &  133 & 4.8 & Electronics Company                 & Excellent\\\\\n",
       "\t Equipo.co.nz               &   69 & 4.8 & Watch Store                         & Excellent\\\\\n",
       "\t OnlyDomains                & 1887 & 4.7 & e-Commerce Service                  & Excellent\\\\\n",
       "\t Emsisoft                   &   45 & 4.7 & Software Company                    & Excellent\\\\\n",
       "\t Supero                     &  638 & 4.6 & Electronics Store                   & Excellent\\\\\n",
       "\t Cackle Telecommunications  &  117 & 4.6 & Phone and Internet Service          & Excellent\\\\\n",
       "\t NetNest New Zealand        &   26 & 4.6 & Computer and Accessories Store      & Excellent\\\\\n",
       "\t QNAP Source                &   22 & 4.6 & Computer and Accessories Store      & Excellent\\\\\n",
       "\t nzgameshop.com             & 3442 & 4.5 & Video Game Store                    & Great    \\\\\n",
       "\t Printzone                  &  593 & 4.5 & Office Supply Store                 & Great    \\\\\n",
       "\t Lumin PDF                  &  192 & 4.5 & Software Company                    & Great    \\\\\n",
       "\t Thunder Store              &   37 & 4.5 & Computer Store                      & Great    \\\\\n",
       "\t Signalboosters New Zealand &   32 & 4.5 & Telecommunications Service Provider & Great    \\\\\n",
       "\t Sgtechstore                &   15 & 4.5 & Electronics Company                 & Great    \\\\\n",
       "\t ITNest New Zealand         &   20 & 4.4 & Computer Store                      & Great    \\\\\n",
       "\t Virtual Reality Rental     &   14 & 4.5 & Electronics Hire Shop               & Great    \\\\\n",
       "\t My Layby New Zealand       &  248 & 4.3 & Department Store                    & Great    \\\\\n",
       "\\end{tabular}\n"
      ],
      "text/markdown": [
       "\n",
       "A tibble: 34 × 5\n",
       "\n",
       "| Company &lt;chr&gt; | Reviews &lt;int&gt; | Rating &lt;dbl&gt; | Category &lt;chr&gt; | Tier &lt;chr&gt; |\n",
       "|---|---|---|---|---|\n",
       "| Flashbay                   | 1192 | 5.0 | Drives and Storage Service          | Excellent |\n",
       "| Avstore                    |  235 | 4.9 | Audio Visual Equipment Supplier     | Excellent |\n",
       "| Mighty Ape                 | 3080 | 4.9 | Gaming service Provider             | Excellent |\n",
       "| Appliance Testing Supplies |  133 | 4.8 | Electronics Company                 | Excellent |\n",
       "| Equipo.co.nz               |   69 | 4.8 | Watch Store                         | Excellent |\n",
       "| OnlyDomains                | 1887 | 4.7 | e-Commerce Service                  | Excellent |\n",
       "| Supero                     |  638 | 4.6 | Electronics Store                   | Excellent |\n",
       "| Lumin PDF                  |  192 | 4.5 | Software Company                    | Great     |\n",
       "| Thunder Store              |   37 | 4.5 | Computer Store                      | Great     |\n",
       "| My Layby New Zealand       |  248 | 4.3 | Department Store                    | Great     |\n",
       "| MyRepublic New Zealand     |   53 | 4.0 | Internet Service Provider           | Great     |\n",
       "| APLYiD                     |   32 | 4.0 | Software Company                    | Great     |\n",
       "| CCCAMBOX TV                |  576 | 3.9 | Telecommunications Service Provider | Great     |\n",
       "| Crazy Domains              |  170 | 3.4 | VPN Service                         | Great     |\n",
       "| Flashbay                   | 1192 | 5.0 | Drives and Storage Service          | Excellent |\n",
       "| Avstore                    |  235 | 4.9 | Audio Visual Equipment Supplier     | Excellent |\n",
       "| Mighty Ape                 | 3080 | 4.9 | Gaming service Provider             | Excellent |\n",
       "| Appliance Testing Supplies |  133 | 4.8 | Electronics Company                 | Excellent |\n",
       "| Equipo.co.nz               |   69 | 4.8 | Watch Store                         | Excellent |\n",
       "| OnlyDomains                | 1887 | 4.7 | e-Commerce Service                  | Excellent |\n",
       "| Emsisoft                   |   45 | 4.7 | Software Company                    | Excellent |\n",
       "| Supero                     |  638 | 4.6 | Electronics Store                   | Excellent |\n",
       "| Cackle Telecommunications  |  117 | 4.6 | Phone and Internet Service          | Excellent |\n",
       "| NetNest New Zealand        |   26 | 4.6 | Computer and Accessories Store      | Excellent |\n",
       "| QNAP Source                |   22 | 4.6 | Computer and Accessories Store      | Excellent |\n",
       "| nzgameshop.com             | 3442 | 4.5 | Video Game Store                    | Great     |\n",
       "| Printzone                  |  593 | 4.5 | Office Supply Store                 | Great     |\n",
       "| Lumin PDF                  |  192 | 4.5 | Software Company                    | Great     |\n",
       "| Thunder Store              |   37 | 4.5 | Computer Store                      | Great     |\n",
       "| Signalboosters New Zealand |   32 | 4.5 | Telecommunications Service Provider | Great     |\n",
       "| Sgtechstore                |   15 | 4.5 | Electronics Company                 | Great     |\n",
       "| ITNest New Zealand         |   20 | 4.4 | Computer Store                      | Great     |\n",
       "| Virtual Reality Rental     |   14 | 4.5 | Electronics Hire Shop               | Great     |\n",
       "| My Layby New Zealand       |  248 | 4.3 | Department Store                    | Great     |\n",
       "\n"
      ],
      "text/plain": [
       "   Company                    Reviews Rating\n",
       "1  Flashbay                   1192    5.0   \n",
       "2  Avstore                     235    4.9   \n",
       "3  Mighty Ape                 3080    4.9   \n",
       "4  Appliance Testing Supplies  133    4.8   \n",
       "5  Equipo.co.nz                 69    4.8   \n",
       "6  OnlyDomains                1887    4.7   \n",
       "7  Supero                      638    4.6   \n",
       "8  Lumin PDF                   192    4.5   \n",
       "9  Thunder Store                37    4.5   \n",
       "10 My Layby New Zealand        248    4.3   \n",
       "11 MyRepublic New Zealand       53    4.0   \n",
       "12 APLYiD                       32    4.0   \n",
       "13 CCCAMBOX TV                 576    3.9   \n",
       "14 Crazy Domains               170    3.4   \n",
       "15 Flashbay                   1192    5.0   \n",
       "16 Avstore                     235    4.9   \n",
       "17 Mighty Ape                 3080    4.9   \n",
       "18 Appliance Testing Supplies  133    4.8   \n",
       "19 Equipo.co.nz                 69    4.8   \n",
       "20 OnlyDomains                1887    4.7   \n",
       "21 Emsisoft                     45    4.7   \n",
       "22 Supero                      638    4.6   \n",
       "23 Cackle Telecommunications   117    4.6   \n",
       "24 NetNest New Zealand          26    4.6   \n",
       "25 QNAP Source                  22    4.6   \n",
       "26 nzgameshop.com             3442    4.5   \n",
       "27 Printzone                   593    4.5   \n",
       "28 Lumin PDF                   192    4.5   \n",
       "29 Thunder Store                37    4.5   \n",
       "30 Signalboosters New Zealand   32    4.5   \n",
       "31 Sgtechstore                  15    4.5   \n",
       "32 ITNest New Zealand           20    4.4   \n",
       "33 Virtual Reality Rental       14    4.5   \n",
       "34 My Layby New Zealand        248    4.3   \n",
       "   Category                            Tier     \n",
       "1  Drives and Storage Service          Excellent\n",
       "2  Audio Visual Equipment Supplier     Excellent\n",
       "3  Gaming service Provider             Excellent\n",
       "4  Electronics Company                 Excellent\n",
       "5  Watch Store                         Excellent\n",
       "6  e-Commerce Service                  Excellent\n",
       "7  Electronics Store                   Excellent\n",
       "8  Software Company                    Great    \n",
       "9  Computer Store                      Great    \n",
       "10 Department Store                    Great    \n",
       "11 Internet Service Provider           Great    \n",
       "12 Software Company                    Great    \n",
       "13 Telecommunications Service Provider Great    \n",
       "14 VPN Service                         Great    \n",
       "15 Drives and Storage Service          Excellent\n",
       "16 Audio Visual Equipment Supplier     Excellent\n",
       "17 Gaming service Provider             Excellent\n",
       "18 Electronics Company                 Excellent\n",
       "19 Watch Store                         Excellent\n",
       "20 e-Commerce Service                  Excellent\n",
       "21 Software Company                    Excellent\n",
       "22 Electronics Store                   Excellent\n",
       "23 Phone and Internet Service          Excellent\n",
       "24 Computer and Accessories Store      Excellent\n",
       "25 Computer and Accessories Store      Excellent\n",
       "26 Video Game Store                    Great    \n",
       "27 Office Supply Store                 Great    \n",
       "28 Software Company                    Great    \n",
       "29 Computer Store                      Great    \n",
       "30 Telecommunications Service Provider Great    \n",
       "31 Electronics Company                 Great    \n",
       "32 Computer Store                      Great    \n",
       "33 Electronics Hire Shop               Great    \n",
       "34 Department Store                    Great    "
      ]
     },
     "metadata": {},
     "output_type": "display_data"
    }
   ],
   "source": [
    "tp_df_holder # Checking that the above works"
   ]
  },
  {
   "cell_type": "markdown",
   "metadata": {},
   "source": [
    ">We can see that values from each of the links in variable \"all_web\" are now stored in the tp_df_holder dataframe, and that the function works perfectly.\n",
    ">\n",
    ">**Creating a function that combines all the above so that all company information for one category type can be scraped and put into the dataframe:**"
   ]
  },
  {
   "cell_type": "code",
   "execution_count": 158,
   "metadata": {},
   "outputs": [],
   "source": [
    "auto1 <- function(type) {\n",
    "    web <- glue(\"https://nz.trustpilot.com/categories/{type}\")\n",
    "\n",
    "    websites <- web %>% read_html() %>% html_nodes(\".styles_businessUnitCardsContainer__1ggaO\")\n",
    "    all_web <- websites %>% html_nodes(\"a\") %>% html_attrs() %>% map_chr(\"href\") # Generate list of links\n",
    "    \n",
    "    tp_df_holder <- tibble(Company=character(), Reviews=integer(), Rating=integer(), Category=character(), Tier=character(), .rows = NULL)\n",
    "    \n",
    "    for (link in all_web){\n",
    "        url <- glue('https://nz.trustpilot.com/{link}')\n",
    "        temp <- generate_tp_category_df(url)\n",
    "        tp_df_holder %<>% \n",
    "        add_row(temp[1,])\n",
    "    }\n",
    "    tp_df_holder <- tp_df_holder %>% mutate(Type = type)\n",
    "    return(tp_df_holder)\n",
    "}"
   ]
  },
  {
   "cell_type": "code",
   "execution_count": 160,
   "metadata": {},
   "outputs": [
    {
     "data": {
      "text/html": [
       "<style>\n",
       ".list-inline {list-style: none; margin:0; padding: 0}\n",
       ".list-inline>li {display: inline-block}\n",
       ".list-inline>li:not(:last-child)::after {content: \"\\00b7\"; padding: 0 .5ex}\n",
       "</style>\n",
       "<ol class=list-inline><li>'electronics_technology'</li><li>'education_training'</li><li>'health_medical'</li><li>'business_services'</li><li>'travel_vacation'</li><li>'restaurants_bars'</li><li>'sports'</li></ol>\n"
      ],
      "text/latex": [
       "\\begin{enumerate*}\n",
       "\\item 'electronics\\_technology'\n",
       "\\item 'education\\_training'\n",
       "\\item 'health\\_medical'\n",
       "\\item 'business\\_services'\n",
       "\\item 'travel\\_vacation'\n",
       "\\item 'restaurants\\_bars'\n",
       "\\item 'sports'\n",
       "\\end{enumerate*}\n"
      ],
      "text/markdown": [
       "1. 'electronics_technology'\n",
       "2. 'education_training'\n",
       "3. 'health_medical'\n",
       "4. 'business_services'\n",
       "5. 'travel_vacation'\n",
       "6. 'restaurants_bars'\n",
       "7. 'sports'\n",
       "\n",
       "\n"
      ],
      "text/plain": [
       "[1] \"electronics_technology\" \"education_training\"     \"health_medical\"        \n",
       "[4] \"business_services\"      \"travel_vacation\"        \"restaurants_bars\"      \n",
       "[7] \"sports\"                "
      ]
     },
     "metadata": {},
     "output_type": "display_data"
    }
   ],
   "source": [
    "web_name <- c(\"electronics_technology\", \"education_training\", \n",
    "             \"health_medical\", \"business_services\", \n",
    "              \"travel_vacation\",  \"restaurants_bars\",\n",
    "              \"sports\")\n",
    "web_name"
   ]
  },
  {
   "cell_type": "code",
   "execution_count": 161,
   "metadata": {},
   "outputs": [],
   "source": [
    "table1 <- map_df(web_name, auto1)"
   ]
  },
  {
   "cell_type": "code",
   "execution_count": 174,
   "metadata": {
    "tags": []
   },
   "outputs": [
    {
     "data": {
      "text/html": [
       "<table class=\"dataframe\">\n",
       "<caption>A tibble: 171 × 6</caption>\n",
       "<thead>\n",
       "\t<tr><th scope=col>Company</th><th scope=col>Reviews</th><th scope=col>Rating</th><th scope=col>Category</th><th scope=col>Tier</th><th scope=col>Type</th></tr>\n",
       "\t<tr><th scope=col>&lt;chr&gt;</th><th scope=col>&lt;int&gt;</th><th scope=col>&lt;dbl&gt;</th><th scope=col>&lt;chr&gt;</th><th scope=col>&lt;chr&gt;</th><th scope=col>&lt;chr&gt;</th></tr>\n",
       "</thead>\n",
       "<tbody>\n",
       "\t<tr><td>Flashbay                  </td><td>1192</td><td>5.0</td><td>Drives and Storage Service         </td><td>Excellent</td><td>electronics_technology</td></tr>\n",
       "\t<tr><td>Avstore                   </td><td> 235</td><td>4.9</td><td>Audio Visual Equipment Supplier    </td><td>Excellent</td><td>electronics_technology</td></tr>\n",
       "\t<tr><td>Mighty Ape                </td><td>3080</td><td>4.9</td><td>Gaming service Provider            </td><td>Excellent</td><td>electronics_technology</td></tr>\n",
       "\t<tr><td>Appliance Testing Supplies</td><td> 133</td><td>4.8</td><td>Electronics Company                </td><td>Excellent</td><td>electronics_technology</td></tr>\n",
       "\t<tr><td>Equipo.co.nz              </td><td>  69</td><td>4.8</td><td>Watch Store                        </td><td>Excellent</td><td>electronics_technology</td></tr>\n",
       "\t<tr><td>OnlyDomains               </td><td>1887</td><td>4.7</td><td>e-Commerce Service                 </td><td>Excellent</td><td>electronics_technology</td></tr>\n",
       "\t<tr><td>Supero                    </td><td> 638</td><td>4.6</td><td>Electronics Store                  </td><td>Excellent</td><td>electronics_technology</td></tr>\n",
       "\t<tr><td>Lumin PDF                 </td><td> 192</td><td>4.5</td><td>Software Company                   </td><td>Great    </td><td>electronics_technology</td></tr>\n",
       "\t<tr><td>Thunder Store             </td><td>  37</td><td>4.5</td><td>Computer Store                     </td><td>Great    </td><td>electronics_technology</td></tr>\n",
       "\t<tr><td>My Layby New Zealand      </td><td> 248</td><td>4.3</td><td>Department Store                   </td><td>Great    </td><td>electronics_technology</td></tr>\n",
       "\t<tr><td>MyRepublic New Zealand    </td><td>  53</td><td>4.0</td><td>Internet Service Provider          </td><td>Great    </td><td>electronics_technology</td></tr>\n",
       "\t<tr><td>APLYiD                    </td><td>  32</td><td>4.0</td><td>Software Company                   </td><td>Great    </td><td>electronics_technology</td></tr>\n",
       "\t<tr><td>CCCAMBOX TV               </td><td> 576</td><td>3.9</td><td>Telecommunications Service Provider</td><td>Great    </td><td>electronics_technology</td></tr>\n",
       "\t<tr><td>Crazy Domains             </td><td> 170</td><td>3.4</td><td>VPN Service                        </td><td>Great    </td><td>electronics_technology</td></tr>\n",
       "\t<tr><td>Flashbay                  </td><td>1192</td><td>5.0</td><td>Drives and Storage Service         </td><td>Excellent</td><td>electronics_technology</td></tr>\n",
       "\t<tr><td>Avstore                   </td><td> 235</td><td>4.9</td><td>Audio Visual Equipment Supplier    </td><td>Excellent</td><td>electronics_technology</td></tr>\n",
       "\t<tr><td>Mighty Ape                </td><td>3080</td><td>4.9</td><td>Gaming service Provider            </td><td>Excellent</td><td>electronics_technology</td></tr>\n",
       "\t<tr><td>Appliance Testing Supplies</td><td> 133</td><td>4.8</td><td>Electronics Company                </td><td>Excellent</td><td>electronics_technology</td></tr>\n",
       "\t<tr><td>Equipo.co.nz              </td><td>  69</td><td>4.8</td><td>Watch Store                        </td><td>Excellent</td><td>electronics_technology</td></tr>\n",
       "\t<tr><td>OnlyDomains               </td><td>1887</td><td>4.7</td><td>e-Commerce Service                 </td><td>Excellent</td><td>electronics_technology</td></tr>\n",
       "\t<tr><td>Emsisoft                  </td><td>  45</td><td>4.7</td><td>Software Company                   </td><td>Excellent</td><td>electronics_technology</td></tr>\n",
       "\t<tr><td>Supero                    </td><td> 638</td><td>4.6</td><td>Electronics Store                  </td><td>Excellent</td><td>electronics_technology</td></tr>\n",
       "\t<tr><td>Cackle Telecommunications </td><td> 117</td><td>4.6</td><td>Phone and Internet Service         </td><td>Excellent</td><td>electronics_technology</td></tr>\n",
       "\t<tr><td>NetNest New Zealand       </td><td>  26</td><td>4.6</td><td>Computer and Accessories Store     </td><td>Excellent</td><td>electronics_technology</td></tr>\n",
       "\t<tr><td>QNAP Source               </td><td>  22</td><td>4.6</td><td>Computer and Accessories Store     </td><td>Excellent</td><td>electronics_technology</td></tr>\n",
       "\t<tr><td>nzgameshop.com            </td><td>3442</td><td>4.5</td><td>Video Game Store                   </td><td>Great    </td><td>electronics_technology</td></tr>\n",
       "\t<tr><td>Printzone                 </td><td> 593</td><td>4.5</td><td>Office Supply Store                </td><td>Great    </td><td>electronics_technology</td></tr>\n",
       "\t<tr><td>Lumin PDF                 </td><td> 192</td><td>4.5</td><td>Software Company                   </td><td>Great    </td><td>electronics_technology</td></tr>\n",
       "\t<tr><td>Thunder Store             </td><td>  37</td><td>4.5</td><td>Computer Store                     </td><td>Great    </td><td>electronics_technology</td></tr>\n",
       "\t<tr><td>Signalboosters New Zealand</td><td>  32</td><td>4.5</td><td>Telecommunications Service Provider</td><td>Great    </td><td>electronics_technology</td></tr>\n",
       "\t<tr><td>⋮</td><td>⋮</td><td>⋮</td><td>⋮</td><td>⋮</td><td>⋮</td></tr>\n",
       "\t<tr><td>Perfectly Imperfect                     </td><td>   0</td><td>0.0</td><td>Online Food Ordering Service</td><td>Bad      </td><td>restaurants_bars</td></tr>\n",
       "\t<tr><td><span style=white-space:pre-wrap>New World                               </span></td><td><span style=white-space:pre-wrap>   0</span></td><td>0.0</td><td><span style=white-space:pre-wrap>Restaurants &amp; Bars          </span></td><td><span style=white-space:pre-wrap>Bad      </span></td><td>restaurants_bars</td></tr>\n",
       "\t<tr><td><span style=white-space:pre-wrap>WOOP                                    </span></td><td><span style=white-space:pre-wrap>   0</span></td><td>0.0</td><td><span style=white-space:pre-wrap>Restaurants &amp; Bars          </span></td><td><span style=white-space:pre-wrap>Bad      </span></td><td>restaurants_bars</td></tr>\n",
       "\t<tr><td><span style=white-space:pre-wrap>My Goodness Gift Baskets                </span></td><td><span style=white-space:pre-wrap>   0</span></td><td>0.0</td><td><span style=white-space:pre-wrap>Restaurants &amp; Bars          </span></td><td><span style=white-space:pre-wrap>Bad      </span></td><td>restaurants_bars</td></tr>\n",
       "\t<tr><td><span style=white-space:pre-wrap>Countdown                               </span></td><td><span style=white-space:pre-wrap>  99</span></td><td>2.0</td><td><span style=white-space:pre-wrap>Restaurants &amp; Bars          </span></td><td><span style=white-space:pre-wrap>Poor     </span></td><td>restaurants_bars</td></tr>\n",
       "\t<tr><td><span style=white-space:pre-wrap>Menulog                                 </span></td><td><span style=white-space:pre-wrap>  45</span></td><td>1.5</td><td><span style=white-space:pre-wrap>Restaurants &amp; Bars          </span></td><td><span style=white-space:pre-wrap>Poor     </span></td><td>restaurants_bars</td></tr>\n",
       "\t<tr><td>Mariner Marine Insurance                </td><td>1066</td><td>4.8</td><td>Insurance Agency            </td><td>Excellent</td><td>sports          </td></tr>\n",
       "\t<tr><td>Equipo.co.nz                            </td><td>  69</td><td>4.8</td><td>Watch Store                 </td><td>Excellent</td><td>sports          </td></tr>\n",
       "\t<tr><td>Gloworm Lights                          </td><td> 478</td><td>4.7</td><td>Outdoor Sports Store        </td><td>Excellent</td><td>sports          </td></tr>\n",
       "\t<tr><td>Eztoned                                 </td><td> 277</td><td>4.3</td><td>Fitness Equipment Store     </td><td>Great    </td><td>sports          </td></tr>\n",
       "\t<tr><td>Gym And Fitness                         </td><td> 132</td><td>4.3</td><td>Fitness Equipment Store     </td><td>Great    </td><td>sports          </td></tr>\n",
       "\t<tr><td>ProBikeKit (New Zealand)                </td><td> 385</td><td>3.9</td><td>Bicycle Store               </td><td>Great    </td><td>sports          </td></tr>\n",
       "\t<tr><td>Fitness New Zealand                     </td><td> 502</td><td>4.9</td><td>Running Store               </td><td>Excellent</td><td>sports          </td></tr>\n",
       "\t<tr><td>Mariner Marine Insurance                </td><td>1066</td><td>4.8</td><td>Insurance Agency            </td><td>Excellent</td><td>sports          </td></tr>\n",
       "\t<tr><td>Equipo.co.nz                            </td><td>  69</td><td>4.8</td><td>Watch Store                 </td><td>Excellent</td><td>sports          </td></tr>\n",
       "\t<tr><td>Evo Cycles                              </td><td> 516</td><td>4.7</td><td>Outdoor Sports Store        </td><td>Excellent</td><td>sports          </td></tr>\n",
       "\t<tr><td>Gloworm Lights                          </td><td> 478</td><td>4.7</td><td>Outdoor Sports Store        </td><td>Excellent</td><td>sports          </td></tr>\n",
       "\t<tr><td>Terrace Downs Resort                    </td><td> 183</td><td>4.7</td><td>Hotel                       </td><td>Excellent</td><td>sports          </td></tr>\n",
       "\t<tr><td>Wrightgolf                              </td><td>  17</td><td>4.5</td><td>Golf shop                   </td><td>Great    </td><td>sports          </td></tr>\n",
       "\t<tr><td>Eztoned                                 </td><td> 277</td><td>4.3</td><td>Fitness Equipment Store     </td><td>Great    </td><td>sports          </td></tr>\n",
       "\t<tr><td>Gym And Fitness                         </td><td> 132</td><td>4.3</td><td>Fitness Equipment Store     </td><td>Great    </td><td>sports          </td></tr>\n",
       "\t<tr><td>hoverboardnz.co.nz                      </td><td>  18</td><td>4.3</td><td>Outdoor Sports Store        </td><td>Great    </td><td>sports          </td></tr>\n",
       "\t<tr><td>GymMaster                               </td><td>   4</td><td>4.0</td><td>Sports                      </td><td>Great    </td><td>sports          </td></tr>\n",
       "\t<tr><td>ProBikeKit (New Zealand)                </td><td> 385</td><td>3.9</td><td>Bicycle Store               </td><td>Great    </td><td>sports          </td></tr>\n",
       "\t<tr><td>Imagine Fitness Personal Training Studio</td><td>   0</td><td>0.0</td><td>Personal Trainer            </td><td>Bad      </td><td>sports          </td></tr>\n",
       "\t<tr><td>Queenstown Indoor Snow Park             </td><td>   0</td><td>0.0</td><td>Sports                      </td><td>Bad      </td><td>sports          </td></tr>\n",
       "\t<tr><td>Racelab                                 </td><td>   0</td><td>0.0</td><td>Sports                      </td><td>Bad      </td><td>sports          </td></tr>\n",
       "\t<tr><td>Complete Outdoors                       </td><td>   0</td><td>0.0</td><td>Camping Store               </td><td>Bad      </td><td>sports          </td></tr>\n",
       "\t<tr><td>Velobike                                </td><td>   0</td><td>0.0</td><td>Sporting Goods Store        </td><td>Bad      </td><td>sports          </td></tr>\n",
       "\t<tr><td>Webmasters                              </td><td>   0</td><td>0.0</td><td>Clothing Wholesaler         </td><td>Bad      </td><td>sports          </td></tr>\n",
       "</tbody>\n",
       "</table>\n"
      ],
      "text/latex": [
       "A tibble: 171 × 6\n",
       "\\begin{tabular}{llllll}\n",
       " Company & Reviews & Rating & Category & Tier & Type\\\\\n",
       " <chr> & <int> & <dbl> & <chr> & <chr> & <chr>\\\\\n",
       "\\hline\n",
       "\t Flashbay                   & 1192 & 5.0 & Drives and Storage Service          & Excellent & electronics\\_technology\\\\\n",
       "\t Avstore                    &  235 & 4.9 & Audio Visual Equipment Supplier     & Excellent & electronics\\_technology\\\\\n",
       "\t Mighty Ape                 & 3080 & 4.9 & Gaming service Provider             & Excellent & electronics\\_technology\\\\\n",
       "\t Appliance Testing Supplies &  133 & 4.8 & Electronics Company                 & Excellent & electronics\\_technology\\\\\n",
       "\t Equipo.co.nz               &   69 & 4.8 & Watch Store                         & Excellent & electronics\\_technology\\\\\n",
       "\t OnlyDomains                & 1887 & 4.7 & e-Commerce Service                  & Excellent & electronics\\_technology\\\\\n",
       "\t Supero                     &  638 & 4.6 & Electronics Store                   & Excellent & electronics\\_technology\\\\\n",
       "\t Lumin PDF                  &  192 & 4.5 & Software Company                    & Great     & electronics\\_technology\\\\\n",
       "\t Thunder Store              &   37 & 4.5 & Computer Store                      & Great     & electronics\\_technology\\\\\n",
       "\t My Layby New Zealand       &  248 & 4.3 & Department Store                    & Great     & electronics\\_technology\\\\\n",
       "\t MyRepublic New Zealand     &   53 & 4.0 & Internet Service Provider           & Great     & electronics\\_technology\\\\\n",
       "\t APLYiD                     &   32 & 4.0 & Software Company                    & Great     & electronics\\_technology\\\\\n",
       "\t CCCAMBOX TV                &  576 & 3.9 & Telecommunications Service Provider & Great     & electronics\\_technology\\\\\n",
       "\t Crazy Domains              &  170 & 3.4 & VPN Service                         & Great     & electronics\\_technology\\\\\n",
       "\t Flashbay                   & 1192 & 5.0 & Drives and Storage Service          & Excellent & electronics\\_technology\\\\\n",
       "\t Avstore                    &  235 & 4.9 & Audio Visual Equipment Supplier     & Excellent & electronics\\_technology\\\\\n",
       "\t Mighty Ape                 & 3080 & 4.9 & Gaming service Provider             & Excellent & electronics\\_technology\\\\\n",
       "\t Appliance Testing Supplies &  133 & 4.8 & Electronics Company                 & Excellent & electronics\\_technology\\\\\n",
       "\t Equipo.co.nz               &   69 & 4.8 & Watch Store                         & Excellent & electronics\\_technology\\\\\n",
       "\t OnlyDomains                & 1887 & 4.7 & e-Commerce Service                  & Excellent & electronics\\_technology\\\\\n",
       "\t Emsisoft                   &   45 & 4.7 & Software Company                    & Excellent & electronics\\_technology\\\\\n",
       "\t Supero                     &  638 & 4.6 & Electronics Store                   & Excellent & electronics\\_technology\\\\\n",
       "\t Cackle Telecommunications  &  117 & 4.6 & Phone and Internet Service          & Excellent & electronics\\_technology\\\\\n",
       "\t NetNest New Zealand        &   26 & 4.6 & Computer and Accessories Store      & Excellent & electronics\\_technology\\\\\n",
       "\t QNAP Source                &   22 & 4.6 & Computer and Accessories Store      & Excellent & electronics\\_technology\\\\\n",
       "\t nzgameshop.com             & 3442 & 4.5 & Video Game Store                    & Great     & electronics\\_technology\\\\\n",
       "\t Printzone                  &  593 & 4.5 & Office Supply Store                 & Great     & electronics\\_technology\\\\\n",
       "\t Lumin PDF                  &  192 & 4.5 & Software Company                    & Great     & electronics\\_technology\\\\\n",
       "\t Thunder Store              &   37 & 4.5 & Computer Store                      & Great     & electronics\\_technology\\\\\n",
       "\t Signalboosters New Zealand &   32 & 4.5 & Telecommunications Service Provider & Great     & electronics\\_technology\\\\\n",
       "\t ⋮ & ⋮ & ⋮ & ⋮ & ⋮ & ⋮\\\\\n",
       "\t Perfectly Imperfect                      &    0 & 0.0 & Online Food Ordering Service & Bad       & restaurants\\_bars\\\\\n",
       "\t New World                                &    0 & 0.0 & Restaurants \\& Bars           & Bad       & restaurants\\_bars\\\\\n",
       "\t WOOP                                     &    0 & 0.0 & Restaurants \\& Bars           & Bad       & restaurants\\_bars\\\\\n",
       "\t My Goodness Gift Baskets                 &    0 & 0.0 & Restaurants \\& Bars           & Bad       & restaurants\\_bars\\\\\n",
       "\t Countdown                                &   99 & 2.0 & Restaurants \\& Bars           & Poor      & restaurants\\_bars\\\\\n",
       "\t Menulog                                  &   45 & 1.5 & Restaurants \\& Bars           & Poor      & restaurants\\_bars\\\\\n",
       "\t Mariner Marine Insurance                 & 1066 & 4.8 & Insurance Agency             & Excellent & sports          \\\\\n",
       "\t Equipo.co.nz                             &   69 & 4.8 & Watch Store                  & Excellent & sports          \\\\\n",
       "\t Gloworm Lights                           &  478 & 4.7 & Outdoor Sports Store         & Excellent & sports          \\\\\n",
       "\t Eztoned                                  &  277 & 4.3 & Fitness Equipment Store      & Great     & sports          \\\\\n",
       "\t Gym And Fitness                          &  132 & 4.3 & Fitness Equipment Store      & Great     & sports          \\\\\n",
       "\t ProBikeKit (New Zealand)                 &  385 & 3.9 & Bicycle Store                & Great     & sports          \\\\\n",
       "\t Fitness New Zealand                      &  502 & 4.9 & Running Store                & Excellent & sports          \\\\\n",
       "\t Mariner Marine Insurance                 & 1066 & 4.8 & Insurance Agency             & Excellent & sports          \\\\\n",
       "\t Equipo.co.nz                             &   69 & 4.8 & Watch Store                  & Excellent & sports          \\\\\n",
       "\t Evo Cycles                               &  516 & 4.7 & Outdoor Sports Store         & Excellent & sports          \\\\\n",
       "\t Gloworm Lights                           &  478 & 4.7 & Outdoor Sports Store         & Excellent & sports          \\\\\n",
       "\t Terrace Downs Resort                     &  183 & 4.7 & Hotel                        & Excellent & sports          \\\\\n",
       "\t Wrightgolf                               &   17 & 4.5 & Golf shop                    & Great     & sports          \\\\\n",
       "\t Eztoned                                  &  277 & 4.3 & Fitness Equipment Store      & Great     & sports          \\\\\n",
       "\t Gym And Fitness                          &  132 & 4.3 & Fitness Equipment Store      & Great     & sports          \\\\\n",
       "\t hoverboardnz.co.nz                       &   18 & 4.3 & Outdoor Sports Store         & Great     & sports          \\\\\n",
       "\t GymMaster                                &    4 & 4.0 & Sports                       & Great     & sports          \\\\\n",
       "\t ProBikeKit (New Zealand)                 &  385 & 3.9 & Bicycle Store                & Great     & sports          \\\\\n",
       "\t Imagine Fitness Personal Training Studio &    0 & 0.0 & Personal Trainer             & Bad       & sports          \\\\\n",
       "\t Queenstown Indoor Snow Park              &    0 & 0.0 & Sports                       & Bad       & sports          \\\\\n",
       "\t Racelab                                  &    0 & 0.0 & Sports                       & Bad       & sports          \\\\\n",
       "\t Complete Outdoors                        &    0 & 0.0 & Camping Store                & Bad       & sports          \\\\\n",
       "\t Velobike                                 &    0 & 0.0 & Sporting Goods Store         & Bad       & sports          \\\\\n",
       "\t Webmasters                               &    0 & 0.0 & Clothing Wholesaler          & Bad       & sports          \\\\\n",
       "\\end{tabular}\n"
      ],
      "text/markdown": [
       "\n",
       "A tibble: 171 × 6\n",
       "\n",
       "| Company &lt;chr&gt; | Reviews &lt;int&gt; | Rating &lt;dbl&gt; | Category &lt;chr&gt; | Tier &lt;chr&gt; | Type &lt;chr&gt; |\n",
       "|---|---|---|---|---|---|\n",
       "| Flashbay                   | 1192 | 5.0 | Drives and Storage Service          | Excellent | electronics_technology |\n",
       "| Avstore                    |  235 | 4.9 | Audio Visual Equipment Supplier     | Excellent | electronics_technology |\n",
       "| Mighty Ape                 | 3080 | 4.9 | Gaming service Provider             | Excellent | electronics_technology |\n",
       "| Appliance Testing Supplies |  133 | 4.8 | Electronics Company                 | Excellent | electronics_technology |\n",
       "| Equipo.co.nz               |   69 | 4.8 | Watch Store                         | Excellent | electronics_technology |\n",
       "| OnlyDomains                | 1887 | 4.7 | e-Commerce Service                  | Excellent | electronics_technology |\n",
       "| Supero                     |  638 | 4.6 | Electronics Store                   | Excellent | electronics_technology |\n",
       "| Lumin PDF                  |  192 | 4.5 | Software Company                    | Great     | electronics_technology |\n",
       "| Thunder Store              |   37 | 4.5 | Computer Store                      | Great     | electronics_technology |\n",
       "| My Layby New Zealand       |  248 | 4.3 | Department Store                    | Great     | electronics_technology |\n",
       "| MyRepublic New Zealand     |   53 | 4.0 | Internet Service Provider           | Great     | electronics_technology |\n",
       "| APLYiD                     |   32 | 4.0 | Software Company                    | Great     | electronics_technology |\n",
       "| CCCAMBOX TV                |  576 | 3.9 | Telecommunications Service Provider | Great     | electronics_technology |\n",
       "| Crazy Domains              |  170 | 3.4 | VPN Service                         | Great     | electronics_technology |\n",
       "| Flashbay                   | 1192 | 5.0 | Drives and Storage Service          | Excellent | electronics_technology |\n",
       "| Avstore                    |  235 | 4.9 | Audio Visual Equipment Supplier     | Excellent | electronics_technology |\n",
       "| Mighty Ape                 | 3080 | 4.9 | Gaming service Provider             | Excellent | electronics_technology |\n",
       "| Appliance Testing Supplies |  133 | 4.8 | Electronics Company                 | Excellent | electronics_technology |\n",
       "| Equipo.co.nz               |   69 | 4.8 | Watch Store                         | Excellent | electronics_technology |\n",
       "| OnlyDomains                | 1887 | 4.7 | e-Commerce Service                  | Excellent | electronics_technology |\n",
       "| Emsisoft                   |   45 | 4.7 | Software Company                    | Excellent | electronics_technology |\n",
       "| Supero                     |  638 | 4.6 | Electronics Store                   | Excellent | electronics_technology |\n",
       "| Cackle Telecommunications  |  117 | 4.6 | Phone and Internet Service          | Excellent | electronics_technology |\n",
       "| NetNest New Zealand        |   26 | 4.6 | Computer and Accessories Store      | Excellent | electronics_technology |\n",
       "| QNAP Source                |   22 | 4.6 | Computer and Accessories Store      | Excellent | electronics_technology |\n",
       "| nzgameshop.com             | 3442 | 4.5 | Video Game Store                    | Great     | electronics_technology |\n",
       "| Printzone                  |  593 | 4.5 | Office Supply Store                 | Great     | electronics_technology |\n",
       "| Lumin PDF                  |  192 | 4.5 | Software Company                    | Great     | electronics_technology |\n",
       "| Thunder Store              |   37 | 4.5 | Computer Store                      | Great     | electronics_technology |\n",
       "| Signalboosters New Zealand |   32 | 4.5 | Telecommunications Service Provider | Great     | electronics_technology |\n",
       "| ⋮ | ⋮ | ⋮ | ⋮ | ⋮ | ⋮ |\n",
       "| Perfectly Imperfect                      |    0 | 0.0 | Online Food Ordering Service | Bad       | restaurants_bars |\n",
       "| New World                                |    0 | 0.0 | Restaurants &amp; Bars           | Bad       | restaurants_bars |\n",
       "| WOOP                                     |    0 | 0.0 | Restaurants &amp; Bars           | Bad       | restaurants_bars |\n",
       "| My Goodness Gift Baskets                 |    0 | 0.0 | Restaurants &amp; Bars           | Bad       | restaurants_bars |\n",
       "| Countdown                                |   99 | 2.0 | Restaurants &amp; Bars           | Poor      | restaurants_bars |\n",
       "| Menulog                                  |   45 | 1.5 | Restaurants &amp; Bars           | Poor      | restaurants_bars |\n",
       "| Mariner Marine Insurance                 | 1066 | 4.8 | Insurance Agency             | Excellent | sports           |\n",
       "| Equipo.co.nz                             |   69 | 4.8 | Watch Store                  | Excellent | sports           |\n",
       "| Gloworm Lights                           |  478 | 4.7 | Outdoor Sports Store         | Excellent | sports           |\n",
       "| Eztoned                                  |  277 | 4.3 | Fitness Equipment Store      | Great     | sports           |\n",
       "| Gym And Fitness                          |  132 | 4.3 | Fitness Equipment Store      | Great     | sports           |\n",
       "| ProBikeKit (New Zealand)                 |  385 | 3.9 | Bicycle Store                | Great     | sports           |\n",
       "| Fitness New Zealand                      |  502 | 4.9 | Running Store                | Excellent | sports           |\n",
       "| Mariner Marine Insurance                 | 1066 | 4.8 | Insurance Agency             | Excellent | sports           |\n",
       "| Equipo.co.nz                             |   69 | 4.8 | Watch Store                  | Excellent | sports           |\n",
       "| Evo Cycles                               |  516 | 4.7 | Outdoor Sports Store         | Excellent | sports           |\n",
       "| Gloworm Lights                           |  478 | 4.7 | Outdoor Sports Store         | Excellent | sports           |\n",
       "| Terrace Downs Resort                     |  183 | 4.7 | Hotel                        | Excellent | sports           |\n",
       "| Wrightgolf                               |   17 | 4.5 | Golf shop                    | Great     | sports           |\n",
       "| Eztoned                                  |  277 | 4.3 | Fitness Equipment Store      | Great     | sports           |\n",
       "| Gym And Fitness                          |  132 | 4.3 | Fitness Equipment Store      | Great     | sports           |\n",
       "| hoverboardnz.co.nz                       |   18 | 4.3 | Outdoor Sports Store         | Great     | sports           |\n",
       "| GymMaster                                |    4 | 4.0 | Sports                       | Great     | sports           |\n",
       "| ProBikeKit (New Zealand)                 |  385 | 3.9 | Bicycle Store                | Great     | sports           |\n",
       "| Imagine Fitness Personal Training Studio |    0 | 0.0 | Personal Trainer             | Bad       | sports           |\n",
       "| Queenstown Indoor Snow Park              |    0 | 0.0 | Sports                       | Bad       | sports           |\n",
       "| Racelab                                  |    0 | 0.0 | Sports                       | Bad       | sports           |\n",
       "| Complete Outdoors                        |    0 | 0.0 | Camping Store                | Bad       | sports           |\n",
       "| Velobike                                 |    0 | 0.0 | Sporting Goods Store         | Bad       | sports           |\n",
       "| Webmasters                               |    0 | 0.0 | Clothing Wholesaler          | Bad       | sports           |\n",
       "\n"
      ],
      "text/plain": [
       "    Company                                  Reviews Rating\n",
       "1   Flashbay                                 1192    5.0   \n",
       "2   Avstore                                   235    4.9   \n",
       "3   Mighty Ape                               3080    4.9   \n",
       "4   Appliance Testing Supplies                133    4.8   \n",
       "5   Equipo.co.nz                               69    4.8   \n",
       "6   OnlyDomains                              1887    4.7   \n",
       "7   Supero                                    638    4.6   \n",
       "8   Lumin PDF                                 192    4.5   \n",
       "9   Thunder Store                              37    4.5   \n",
       "10  My Layby New Zealand                      248    4.3   \n",
       "11  MyRepublic New Zealand                     53    4.0   \n",
       "12  APLYiD                                     32    4.0   \n",
       "13  CCCAMBOX TV                               576    3.9   \n",
       "14  Crazy Domains                             170    3.4   \n",
       "15  Flashbay                                 1192    5.0   \n",
       "16  Avstore                                   235    4.9   \n",
       "17  Mighty Ape                               3080    4.9   \n",
       "18  Appliance Testing Supplies                133    4.8   \n",
       "19  Equipo.co.nz                               69    4.8   \n",
       "20  OnlyDomains                              1887    4.7   \n",
       "21  Emsisoft                                   45    4.7   \n",
       "22  Supero                                    638    4.6   \n",
       "23  Cackle Telecommunications                 117    4.6   \n",
       "24  NetNest New Zealand                        26    4.6   \n",
       "25  QNAP Source                                22    4.6   \n",
       "26  nzgameshop.com                           3442    4.5   \n",
       "27  Printzone                                 593    4.5   \n",
       "28  Lumin PDF                                 192    4.5   \n",
       "29  Thunder Store                              37    4.5   \n",
       "30  Signalboosters New Zealand                 32    4.5   \n",
       "⋮   ⋮                                        ⋮       ⋮     \n",
       "142 Perfectly Imperfect                         0    0.0   \n",
       "143 New World                                   0    0.0   \n",
       "144 WOOP                                        0    0.0   \n",
       "145 My Goodness Gift Baskets                    0    0.0   \n",
       "146 Countdown                                  99    2.0   \n",
       "147 Menulog                                    45    1.5   \n",
       "148 Mariner Marine Insurance                 1066    4.8   \n",
       "149 Equipo.co.nz                               69    4.8   \n",
       "150 Gloworm Lights                            478    4.7   \n",
       "151 Eztoned                                   277    4.3   \n",
       "152 Gym And Fitness                           132    4.3   \n",
       "153 ProBikeKit (New Zealand)                  385    3.9   \n",
       "154 Fitness New Zealand                       502    4.9   \n",
       "155 Mariner Marine Insurance                 1066    4.8   \n",
       "156 Equipo.co.nz                               69    4.8   \n",
       "157 Evo Cycles                                516    4.7   \n",
       "158 Gloworm Lights                            478    4.7   \n",
       "159 Terrace Downs Resort                      183    4.7   \n",
       "160 Wrightgolf                                 17    4.5   \n",
       "161 Eztoned                                   277    4.3   \n",
       "162 Gym And Fitness                           132    4.3   \n",
       "163 hoverboardnz.co.nz                         18    4.3   \n",
       "164 GymMaster                                   4    4.0   \n",
       "165 ProBikeKit (New Zealand)                  385    3.9   \n",
       "166 Imagine Fitness Personal Training Studio    0    0.0   \n",
       "167 Queenstown Indoor Snow Park                 0    0.0   \n",
       "168 Racelab                                     0    0.0   \n",
       "169 Complete Outdoors                           0    0.0   \n",
       "170 Velobike                                    0    0.0   \n",
       "171 Webmasters                                  0    0.0   \n",
       "    Category                            Tier      Type                  \n",
       "1   Drives and Storage Service          Excellent electronics_technology\n",
       "2   Audio Visual Equipment Supplier     Excellent electronics_technology\n",
       "3   Gaming service Provider             Excellent electronics_technology\n",
       "4   Electronics Company                 Excellent electronics_technology\n",
       "5   Watch Store                         Excellent electronics_technology\n",
       "6   e-Commerce Service                  Excellent electronics_technology\n",
       "7   Electronics Store                   Excellent electronics_technology\n",
       "8   Software Company                    Great     electronics_technology\n",
       "9   Computer Store                      Great     electronics_technology\n",
       "10  Department Store                    Great     electronics_technology\n",
       "11  Internet Service Provider           Great     electronics_technology\n",
       "12  Software Company                    Great     electronics_technology\n",
       "13  Telecommunications Service Provider Great     electronics_technology\n",
       "14  VPN Service                         Great     electronics_technology\n",
       "15  Drives and Storage Service          Excellent electronics_technology\n",
       "16  Audio Visual Equipment Supplier     Excellent electronics_technology\n",
       "17  Gaming service Provider             Excellent electronics_technology\n",
       "18  Electronics Company                 Excellent electronics_technology\n",
       "19  Watch Store                         Excellent electronics_technology\n",
       "20  e-Commerce Service                  Excellent electronics_technology\n",
       "21  Software Company                    Excellent electronics_technology\n",
       "22  Electronics Store                   Excellent electronics_technology\n",
       "23  Phone and Internet Service          Excellent electronics_technology\n",
       "24  Computer and Accessories Store      Excellent electronics_technology\n",
       "25  Computer and Accessories Store      Excellent electronics_technology\n",
       "26  Video Game Store                    Great     electronics_technology\n",
       "27  Office Supply Store                 Great     electronics_technology\n",
       "28  Software Company                    Great     electronics_technology\n",
       "29  Computer Store                      Great     electronics_technology\n",
       "30  Telecommunications Service Provider Great     electronics_technology\n",
       "⋮   ⋮                                   ⋮         ⋮                     \n",
       "142 Online Food Ordering Service        Bad       restaurants_bars      \n",
       "143 Restaurants & Bars                  Bad       restaurants_bars      \n",
       "144 Restaurants & Bars                  Bad       restaurants_bars      \n",
       "145 Restaurants & Bars                  Bad       restaurants_bars      \n",
       "146 Restaurants & Bars                  Poor      restaurants_bars      \n",
       "147 Restaurants & Bars                  Poor      restaurants_bars      \n",
       "148 Insurance Agency                    Excellent sports                \n",
       "149 Watch Store                         Excellent sports                \n",
       "150 Outdoor Sports Store                Excellent sports                \n",
       "151 Fitness Equipment Store             Great     sports                \n",
       "152 Fitness Equipment Store             Great     sports                \n",
       "153 Bicycle Store                       Great     sports                \n",
       "154 Running Store                       Excellent sports                \n",
       "155 Insurance Agency                    Excellent sports                \n",
       "156 Watch Store                         Excellent sports                \n",
       "157 Outdoor Sports Store                Excellent sports                \n",
       "158 Outdoor Sports Store                Excellent sports                \n",
       "159 Hotel                               Excellent sports                \n",
       "160 Golf shop                           Great     sports                \n",
       "161 Fitness Equipment Store             Great     sports                \n",
       "162 Fitness Equipment Store             Great     sports                \n",
       "163 Outdoor Sports Store                Great     sports                \n",
       "164 Sports                              Great     sports                \n",
       "165 Bicycle Store                       Great     sports                \n",
       "166 Personal Trainer                    Bad       sports                \n",
       "167 Sports                              Bad       sports                \n",
       "168 Sports                              Bad       sports                \n",
       "169 Camping Store                       Bad       sports                \n",
       "170 Sporting Goods Store                Bad       sports                \n",
       "171 Clothing Wholesaler                 Bad       sports                "
      ]
     },
     "metadata": {},
     "output_type": "display_data"
    }
   ],
   "source": [
    "table1 %<>% na.omit()\n",
    "table1"
   ]
  },
  {
   "cell_type": "code",
   "execution_count": null,
   "metadata": {},
   "outputs": [],
   "source": []
  },
  {
   "cell_type": "markdown",
   "metadata": {},
   "source": [
    "### Task (d): plot it (2 marks)"
   ]
  },
  {
   "cell_type": "markdown",
   "metadata": {},
   "source": [
    ">**Investigating the relationship between the number of reviews and the rating given**\n",
    ">\n",
    ">We want to investigate if the number of reviews a company gets/its popularity affects the rating the company would receive from consumers. \n",
    ">Would a more used, more well-known company (shown by number of reviews) be more prone to harsher, poorer reviews or vice versa?\n",
    "\n",
    ">Are high rated companies the most reviewed or not?"
   ]
  },
  {
   "cell_type": "code",
   "execution_count": 175,
   "metadata": {},
   "outputs": [
    {
     "name": "stderr",
     "output_type": "stream",
     "text": [
      "`geom_smooth()` using formula 'y ~ x'\n",
      "\n"
     ]
    },
    {
     "data": {
      "image/png": "[encoded data removed]",
      "text/plain": [
       "plot without title"
      ]
     },
     "metadata": {
      "image/png": {
       "height": 420,
       "width": 420
      }
     },
     "output_type": "display_data"
    }
   ],
   "source": [
    "ggplot(table1, \n",
    "       aes(x = Reviews , y =  Rating)) + geom_point() + geom_smooth(method = \"lm\")\n"
   ]
  },
  {
   "cell_type": "markdown",
   "metadata": {},
   "source": [
    ">From this ggplot, there is evidently some outliers outside the trend band, clear ones being companies with ratings of below 2.\n",
    ">Companies below 2.0 ratings have a lot less reviews which may be a factor into why these companies have such low ratings.\n",
    ">The majority of the dataset have approximately 500 ratings, and these ratings are values pretty highly as they all fall under above average to excellent\n",
    "according to the tier system we implemented (3-5 ratings).\n",
    ">\n",
    ">To investigate further we will remove these extreme outliers to get better insight:"
   ]
  },
  {
   "cell_type": "code",
   "execution_count": 176,
   "metadata": {},
   "outputs": [
    {
     "name": "stderr",
     "output_type": "stream",
     "text": [
      "`geom_smooth()` using formula 'y ~ x'\n",
      "\n"
     ]
    },
    {
     "data": {
      "image/png": "[encoded data removed]",
      "text/plain": [
       "plot without title"
      ]
     },
     "metadata": {
      "image/png": {
       "height": 420,
       "width": 420
      }
     },
     "output_type": "display_data"
    }
   ],
   "source": [
    "table1 %>% filter(Reviews > 2) %>%\n",
    "\n",
    "ggplot( \n",
    "       aes(x = Reviews , y =  Rating)) + geom_point() + geom_smooth(method = \"lm\")"
   ]
  },
  {
   "cell_type": "code",
   "execution_count": 177,
   "metadata": {},
   "outputs": [
    {
     "name": "stderr",
     "output_type": "stream",
     "text": [
      "`geom_smooth()` using formula 'y ~ x'\n",
      "\n"
     ]
    },
    {
     "data": {
      "image/png": "[encoded data removed]",
      "text/plain": [
       "plot without title"
      ]
     },
     "metadata": {
      "image/png": {
       "height": 420,
       "width": 420
      }
     },
     "output_type": "display_data"
    }
   ],
   "source": [
    "table <- table1 %>% filter(Reviews != 0, Rating > 2.3)\n",
    "ggplot(table, \n",
    "       aes(x = Reviews , y =  Rating)) + geom_point() + geom_smooth(method = \"lm\")"
   ]
  },
  {
   "cell_type": "markdown",
   "metadata": {},
   "source": [
    ">By removing the extreme outliers, we get a closer look into the trends between this relationship.\n",
    ">There appears to be a very slight upwards trend between reviews and ratings, as we expected it to be.\n",
    ">More reviews of a company would typically indicate trust of consumers to consume the company's services/products\n",
    ">therefore would typically garner high ratings.\n",
    ">\n",
    ">However this is not a given, as we can see there is a big group of low reviewed companies that have a big range of rating values, from as low as below 3\n",
    "to as high as an Excellent tier rating (> 4.5).\n",
    ">\n",
    ">As these variables \"ratings\" and \"reviews\" are quite independent of each other, we can expect to see little relationship and a lot of variation \n",
    ">in the plotting results.\n",
    ">\n",
    ">Thus, it is hard to concretely conclude that there is a relationship between the two variables, but from our plots it does have an overall postive upwards relationship."
   ]
  },
  {
   "cell_type": "code",
   "execution_count": 189,
   "metadata": {},
   "outputs": [
    {
     "data": {
      "image/png": "[encoded data removed]",
      "text/plain": [
       "plot without title"
      ]
     },
     "metadata": {
      "image/png": {
       "height": 420,
       "width": 420
      }
     },
     "output_type": "display_data"
    }
   ],
   "source": [
    "ggplot(data = na.omit(table1), \n",
    "       aes(x = Tier)) +\n",
    "  geom_bar()"
   ]
  },
  {
   "cell_type": "markdown",
   "metadata": {},
   "source": [
    ">From the total count chart it is obvious that Excellent accounts for the highest tier in the dataset, with over 75 companies recorded in this tier. This is followed by Great, Bad and then Poor. We can assume that the reason for this spread is that (1) consumers often tend to leave good reviews rather than bad by habit or (2) most companies listed are"
   ]
  },
  {
   "cell_type": "markdown",
   "metadata": {},
   "source": [
    "### Task (e): APIs (2 marks)\n",
    "\n",
    "Identify a web service offering data through an API. Access the API using `httr` and collect the information you care about. Convert the data into a dataframe (or more than one). Represent it graphically in a meaningful way."
   ]
  },
  {
   "cell_type": "markdown",
   "metadata": {},
   "source": [
    ">**New Zealand Department of Conservation Campsites API**\n",
    ">\n",
    ">Using the campsites API from the Department of Conservation to see the number of campsites available in each region."
   ]
  },
  {
   "cell_type": "code",
   "execution_count": 35,
   "metadata": {},
   "outputs": [
    {
     "name": "stderr",
     "output_type": "stream",
     "text": [
      "\n",
      "Attaching package: ‘jsonlite’\n",
      "\n",
      "\n",
      "The following object is masked from ‘package:purrr’:\n",
      "\n",
      "    flatten\n",
      "\n",
      "\n"
     ]
    }
   ],
   "source": [
    "library(\"httr\")\n",
    "library(\"jsonlite\")"
   ]
  },
  {
   "cell_type": "markdown",
   "metadata": {},
   "source": [
    ">Fetching data from the NZ Department of Conservation server through API and personal key:"
   ]
  },
  {
   "cell_type": "code",
   "execution_count": 36,
   "metadata": {},
   "outputs": [
    {
     "data": {
      "text/plain": [
       "Response [https://api.doc.govt.nz/v2/campsites]\n",
       "  Date: 2021-10-12 01:25\n",
       "  Status: 200\n",
       "  Content-Type: application/json\n",
       "  Size: 37.9 kB\n"
      ]
     },
     "metadata": {},
     "output_type": "display_data"
    }
   ],
   "source": [
    "library(httr)\n",
    "r <- GET(\"https://api.doc.govt.nz/v2/campsites\", add_headers(\"x-api-key\" = \"BT7AV9SXRRSfp5DMxA2y2FQZ8xABmVdaSpeAJJU0\"))\n",
    "r"
   ]
  },
  {
   "cell_type": "markdown",
   "metadata": {},
   "source": [
    ">Checking the content of the fetched data:"
   ]
  },
  {
   "cell_type": "code",
   "execution_count": 37,
   "metadata": {},
   "outputs": [
    {
     "name": "stdout",
     "output_type": "stream",
     "text": [
      "List of 6\n",
      " $ :List of 6\n",
      "  ..$ assetId: int 100030520\n",
      "  ..$ name   : chr \"Rarangi Campsite\"\n",
      "  ..$ status : chr \"OPEN\"\n",
      "  ..$ region : chr \"Marlborough\"\n",
      "  ..$ y      : int 5417097\n",
      "  ..$ x      : int 1687530\n",
      " $ :List of 6\n",
      "  ..$ assetId: int 100030548\n",
      "  ..$ name   : chr \"Perry Saddle Campsite\"\n",
      "  ..$ status : chr \"OPEN\"\n",
      "  ..$ region : chr \"Nelson/Tasman\"\n",
      "  ..$ y      : int 5472086\n",
      "  ..$ x      : int 1549710\n",
      " $ :List of 6\n",
      "  ..$ assetId: int 100031409\n",
      "  ..$ name   : chr \"Mill Flat Campsite\"\n",
      "  ..$ status : chr \"OPEN\"\n",
      "  ..$ region : chr \"Marlborough\"\n",
      "  ..$ y      : int 5405488\n",
      "  ..$ x      : int 1642638\n",
      " $ :List of 6\n",
      "  ..$ assetId: int 100038655\n",
      "  ..$ name   : chr \"Saxon Campsite\"\n",
      "  ..$ status : chr \"OPEN\"\n",
      "  ..$ region : chr \"Nelson/Tasman\"\n",
      "  ..$ y      : int 5473616\n",
      "  ..$ x      : int 1541742\n",
      " $ :List of 6\n",
      "  ..$ assetId: int 100042230\n",
      "  ..$ name   : chr \"Aorere Shelter Campsite\"\n",
      "  ..$ status : chr \"OPEN\"\n",
      "  ..$ region : chr \"Nelson/Tasman\"\n",
      "  ..$ y      : int 5472785\n",
      "  ..$ x      : int 1552807\n",
      " $ :List of 6\n",
      "  ..$ assetId: int 100042231\n",
      "  ..$ name   : chr \"Gouland Downs Campsite\"\n",
      "  ..$ status : chr \"OPEN\"\n",
      "  ..$ region : chr \"Nelson/Tasman\"\n",
      "  ..$ y      : int 5473166\n",
      "  ..$ x      : int 1545509\n"
     ]
    }
   ],
   "source": [
    "str(head(content(r)))"
   ]
  },
  {
   "cell_type": "code",
   "execution_count": 38,
   "metadata": {},
   "outputs": [
    {
     "data": {
      "text/html": [
       "<dl>\n",
       "\t<dt>$category</dt>\n",
       "\t\t<dd>'Success'</dd>\n",
       "\t<dt>$reason</dt>\n",
       "\t\t<dd>'OK'</dd>\n",
       "\t<dt>$message</dt>\n",
       "\t\t<dd>'Success: (200) OK'</dd>\n",
       "</dl>\n"
      ],
      "text/latex": [
       "\\begin{description}\n",
       "\\item[\\$category] 'Success'\n",
       "\\item[\\$reason] 'OK'\n",
       "\\item[\\$message] 'Success: (200) OK'\n",
       "\\end{description}\n"
      ],
      "text/markdown": [
       "$category\n",
       ":   'Success'\n",
       "$reason\n",
       ":   'OK'\n",
       "$message\n",
       ":   'Success: (200) OK'\n",
       "\n",
       "\n"
      ],
      "text/plain": [
       "$category\n",
       "[1] \"Success\"\n",
       "\n",
       "$reason\n",
       "[1] \"OK\"\n",
       "\n",
       "$message\n",
       "[1] \"Success: (200) OK\"\n"
      ]
     },
     "metadata": {},
     "output_type": "display_data"
    }
   ],
   "source": [
    "http_status(r)"
   ]
  },
  {
   "cell_type": "markdown",
   "metadata": {},
   "source": [
    ">Converting the content into a dataframe:"
   ]
  },
  {
   "cell_type": "code",
   "execution_count": 39,
   "metadata": {
    "tags": []
   },
   "outputs": [
    {
     "data": {
      "text/html": [
       "<table class=\"dataframe\">\n",
       "<caption>A data.frame: 329 × 6</caption>\n",
       "<thead>\n",
       "\t<tr><th></th><th scope=col>assetId</th><th scope=col>name</th><th scope=col>status</th><th scope=col>region</th><th scope=col>y</th><th scope=col>x</th></tr>\n",
       "\t<tr><th></th><th scope=col>&lt;int&gt;</th><th scope=col>&lt;chr&gt;</th><th scope=col>&lt;chr&gt;</th><th scope=col>&lt;chr&gt;</th><th scope=col>&lt;int&gt;</th><th scope=col>&lt;int&gt;</th></tr>\n",
       "</thead>\n",
       "<tbody>\n",
       "\t<tr><th scope=row>1</th><td>100030520</td><td>Rarangi Campsite        </td><td>OPEN</td><td>Marlborough       </td><td>5417097</td><td>1687530</td></tr>\n",
       "\t<tr><th scope=row>2</th><td>100030548</td><td>Perry Saddle Campsite   </td><td>OPEN</td><td>Nelson/Tasman     </td><td>5472086</td><td>1549710</td></tr>\n",
       "\t<tr><th scope=row>3</th><td>100031409</td><td>Mill Flat Campsite      </td><td>OPEN</td><td>Marlborough       </td><td>5405488</td><td>1642638</td></tr>\n",
       "\t<tr><th scope=row>4</th><td>100038655</td><td>Saxon Campsite          </td><td>OPEN</td><td>Nelson/Tasman     </td><td>5473616</td><td>1541742</td></tr>\n",
       "\t<tr><th scope=row>5</th><td>100042230</td><td>Aorere Shelter Campsite </td><td>OPEN</td><td>Nelson/Tasman     </td><td>5472785</td><td>1552807</td></tr>\n",
       "\t<tr><th scope=row>6</th><td>100042231</td><td>Gouland Downs Campsite  </td><td>OPEN</td><td>Nelson/Tasman     </td><td>5473166</td><td>1545509</td></tr>\n",
       "\t<tr><th scope=row>7</th><td>100042738</td><td>John Coull Campsite     </td><td>OPEN</td><td>Manawatu/Whanganui</td><td>5655602</td><td>1765211</td></tr>\n",
       "\t<tr><th scope=row>8</th><td>100042930</td><td>Lake Tennyson Campsite  </td><td>OPEN</td><td>Marlborough       </td><td>5326704</td><td>1578547</td></tr>\n",
       "\t<tr><th scope=row>9</th><td>100042949</td><td>Bettjemann Campsite     </td><td>OPEN</td><td>NA                </td><td>5658806</td><td>1772624</td></tr>\n",
       "\t<tr><th scope=row>10</th><td>100042951</td><td>Mangapurua Trig Campsite</td><td>OPEN</td><td>NA                </td><td>5657718</td><td>1779664</td></tr>\n",
       "\t<tr><th scope=row>11</th><td>100042952</td><td>Atene Skyline Campsite  </td><td>OPEN</td><td>NA                </td><td>5603256</td><td>1786151</td></tr>\n",
       "\t<tr><th scope=row>12</th><td>100043178</td><td>Lake Taylor Campsite    </td><td>OPEN</td><td>Canterbury        </td><td>5264062</td><td>1538960</td></tr>\n",
       "\t<tr><th scope=row>13</th><td>100043483</td><td>Wharehunga Bay Campsite </td><td>OPEN</td><td>Marlborough       </td><td>5440490</td><td>1708285</td></tr>\n",
       "\t<tr><th scope=row>14</th><td>100043513</td><td>South Arm Campsite      </td><td>OPEN</td><td>Marlborough       </td><td>5482182</td><td>1673091</td></tr>\n",
       "\t<tr><th scope=row>15</th><td>100043669</td><td>Orari Campsite          </td><td>OPEN</td><td>Canterbury        </td><td>5127884</td><td>1454436</td></tr>\n",
       "\t<tr><th scope=row>16</th><td>100043672</td><td>Waihi Gorge Campsite    </td><td>OPEN</td><td>Canterbury        </td><td>5126184</td><td>1452060</td></tr>\n",
       "\t<tr><th scope=row>17</th><td>100043673</td><td>Mistletoe Flats Campsite</td><td>OPEN</td><td>Canterbury        </td><td>5221620</td><td>1496812</td></tr>\n",
       "\t<tr><th scope=row>18</th><td>100043764</td><td>Awaroa Campsite         </td><td>OPEN</td><td>Nelson/Tasman     </td><td>5476252</td><td>1601584</td></tr>\n",
       "\t<tr><th scope=row>19</th><td>100043767</td><td>Akersten Bay Campsite   </td><td>OPEN</td><td>Nelson/Tasman     </td><td>5464346</td><td>1603992</td></tr>\n",
       "\t<tr><th scope=row>20</th><td>100043769</td><td>Apple Tree Bay Campsite </td><td>OPEN</td><td>Nelson/Tasman     </td><td>5463208</td><td>1603169</td></tr>\n",
       "\t<tr><th scope=row>21</th><td>100043774</td><td>Watering Cove Campsite  </td><td>OPEN</td><td>Nelson/Tasman     </td><td>5465252</td><td>1604737</td></tr>\n",
       "\t<tr><th scope=row>22</th><td>100043935</td><td>Andrews Shelter Campsite</td><td>OPEN</td><td>Canterbury        </td><td>5239136</td><td>1501603</td></tr>\n",
       "\t<tr><th scope=row>23</th><td>100044057</td><td>Kauauroa Bay Campsite   </td><td>OPEN</td><td>Marlborough       </td><td>5456488</td><td>1681490</td></tr>\n",
       "\t<tr><th scope=row>24</th><td>100044059</td><td>Nikau Cove Campsite     </td><td>OPEN</td><td>Marlborough       </td><td>5439031</td><td>1688003</td></tr>\n",
       "\t<tr><th scope=row>25</th><td>100044060</td><td>Waiona Bay Campsite     </td><td>OPEN</td><td>Marlborough       </td><td>5460587</td><td>1673492</td></tr>\n",
       "\t<tr><th scope=row>26</th><td>100044092</td><td>Cannibal Cove Campsite  </td><td>OPEN</td><td>Marlborough       </td><td>5452019</td><td>1705169</td></tr>\n",
       "\t<tr><th scope=row>27</th><td>100044095</td><td>Harvey Bay Campsite     </td><td>OPEN</td><td>Marlborough       </td><td>5447790</td><td>1662394</td></tr>\n",
       "\t<tr><th scope=row>28</th><td>100044096</td><td>Jacobs Bay Campsite     </td><td>OPEN</td><td>Marlborough       </td><td>5448690</td><td>1674292</td></tr>\n",
       "\t<tr><th scope=row>29</th><td>100044097</td><td>Moetapu Bay Campsite    </td><td>OPEN</td><td>Marlborough       </td><td>5431994</td><td>1671592</td></tr>\n",
       "\t<tr><th scope=row>30</th><td>100044098</td><td>Ngaruru Bay campsite    </td><td>OPEN</td><td>Marlborough       </td><td>5435291</td><td>1701785</td></tr>\n",
       "\t<tr><th scope=row>⋮</th><td>⋮</td><td>⋮</td><td>⋮</td><td>⋮</td><td>⋮</td><td>⋮</td></tr>\n",
       "\t<tr><th scope=row>300</th><td>100038588</td><td>Canaan Downs Campsite              </td><td>OPEN</td><td>Nelson/Tasman</td><td>5467579</td><td>1590897</td></tr>\n",
       "\t<tr><th scope=row>301</th><td>100065344</td><td>Kawatiri Campsite                  </td><td>OPEN</td><td>Nelson/Tasman</td><td>5384128</td><td>1568176</td></tr>\n",
       "\t<tr><th scope=row>302</th><td>100065345</td><td>Kerr Bay Campsite                  </td><td>OPEN</td><td>Nelson/Tasman</td><td>5371777</td><td>1587370</td></tr>\n",
       "\t<tr><th scope=row>303</th><td>100066098</td><td>Elaine Bay Campsite                </td><td>OPEN</td><td>Marlborough  </td><td>5454821</td><td>1664677</td></tr>\n",
       "\t<tr><th scope=row>304</th><td>100066492</td><td>Lake Rotoroa Campsite              </td><td>OPEN</td><td>Nelson/Tasman</td><td>5373011</td><td>1566590</td></tr>\n",
       "\t<tr><th scope=row>305</th><td>100120946</td><td>Teetotal Campsite                  </td><td>OPEN</td><td>Nelson/Tasman</td><td>5373191</td><td>1586195</td></tr>\n",
       "\t<tr><th scope=row>306</th><td>100085451</td><td>West Bay Campsite                  </td><td>OPEN</td><td>Nelson/Tasman</td><td>5372655</td><td>1585660</td></tr>\n",
       "\t<tr><th scope=row>307</th><td>100085452</td><td>Buller Campground                  </td><td>OPEN</td><td>NA           </td><td>5372311</td><td>1585236</td></tr>\n",
       "\t<tr><th scope=row>308</th><td>100085145</td><td>Lindis Pass Historic Hotel Campsite</td><td>OPEN</td><td>Otago        </td><td>5044436</td><td>1322276</td></tr>\n",
       "\t<tr><th scope=row>309</th><td>100044090</td><td>Aussie Bay Campsite                </td><td>OPEN</td><td>Marlborough  </td><td>5430491</td><td>1677767</td></tr>\n",
       "\t<tr><th scope=row>310</th><td>100065341</td><td>Whatamango Bay Campsite            </td><td>OPEN</td><td>Marlborough  </td><td>5430675</td><td>1690072</td></tr>\n",
       "\t<tr><th scope=row>311</th><td>100066100</td><td>Kenepuru Head Campsite             </td><td>OPEN</td><td>Marlborough  </td><td>5441344</td><td>1693786</td></tr>\n",
       "\t<tr><th scope=row>312</th><td>100030221</td><td>Lake Mackenzie Campsite            </td><td>OPEN</td><td>Fiordland    </td><td>5031911</td><td>1218263</td></tr>\n",
       "\t<tr><th scope=row>313</th><td>100031421</td><td>South Arm Campsite (Lake Manapouri)</td><td>OPEN</td><td>Fiordland    </td><td>4936474</td><td>1161136</td></tr>\n",
       "\t<tr><th scope=row>314</th><td>100136665</td><td>Diamond Lake Campsite              </td><td>OPEN</td><td>Otago        </td><td>5036440</td><td>1234280</td></tr>\n",
       "\t<tr><th scope=row>315</th><td>100039602</td><td>Cascade Creek Campsite             </td><td>OPEN</td><td>Fiordland    </td><td>5016992</td><td>1211142</td></tr>\n",
       "\t<tr><th scope=row>316</th><td>100042532</td><td>Henry Creek Campsite               </td><td>OPEN</td><td>Fiordland    </td><td>4978212</td><td>1192749</td></tr>\n",
       "\t<tr><th scope=row>317</th><td>100042740</td><td>Hall Arm Campsite                  </td><td>OPEN</td><td>Fiordland    </td><td>4947582</td><td>1137277</td></tr>\n",
       "\t<tr><th scope=row>318</th><td>100043515</td><td>Monowai Campsite                   </td><td>OPEN</td><td>Fiordland    </td><td>4912227</td><td>1174374</td></tr>\n",
       "\t<tr><th scope=row>319</th><td>100044151</td><td>Mackay Creek Campsite              </td><td>OPEN</td><td>Fiordland    </td><td>4997557</td><td>1205650</td></tr>\n",
       "\t<tr><th scope=row>320</th><td>100044152</td><td>Mavora Lakes Campsite              </td><td>OPEN</td><td>Southland    </td><td>4975941</td><td>1221497</td></tr>\n",
       "\t<tr><th scope=row>321</th><td>100064831</td><td>Greenstone Saddle Campsite         </td><td>OPEN</td><td>NA           </td><td>5024665</td><td>1215601</td></tr>\n",
       "\t<tr><th scope=row>322</th><td>100064957</td><td>Iris Burn Campsite                 </td><td>OPEN</td><td>Fiordland    </td><td>4958048</td><td>1170232</td></tr>\n",
       "\t<tr><th scope=row>323</th><td>100065044</td><td>Brod Bay Campsite                  </td><td>OPEN</td><td>Fiordland    </td><td>4958265</td><td>1183256</td></tr>\n",
       "\t<tr><th scope=row>324</th><td>100065487</td><td>Deer Flat Campsite                 </td><td>OPEN</td><td>Fiordland    </td><td>5004970</td><td>1206545</td></tr>\n",
       "\t<tr><th scope=row>325</th><td>100065488</td><td>Kiosk Creek Campsite               </td><td>OPEN</td><td>Fiordland    </td><td>5009087</td><td>1207153</td></tr>\n",
       "\t<tr><th scope=row>326</th><td>100065489</td><td>Totara Campsite                    </td><td>OPEN</td><td>Fiordland    </td><td>4996355</td><td>1205251</td></tr>\n",
       "\t<tr><th scope=row>327</th><td>100065490</td><td>Upper Eglinton Campsite            </td><td>OPEN</td><td>Fiordland    </td><td>5013084</td><td>1207940</td></tr>\n",
       "\t<tr><th scope=row>328</th><td>100065491</td><td>Walker Creek Campsite              </td><td>OPEN</td><td>Fiordland    </td><td>4993449</td><td>1203952</td></tr>\n",
       "\t<tr><th scope=row>329</th><td>100066034</td><td>Thicket Burn Campsite              </td><td>OPEN</td><td>Fiordland    </td><td>4890119</td><td>1170715</td></tr>\n",
       "</tbody>\n",
       "</table>\n"
      ],
      "text/latex": [
       "A data.frame: 329 × 6\n",
       "\\begin{tabular}{r|llllll}\n",
       "  & assetId & name & status & region & y & x\\\\\n",
       "  & <int> & <chr> & <chr> & <chr> & <int> & <int>\\\\\n",
       "\\hline\n",
       "\t1 & 100030520 & Rarangi Campsite         & OPEN & Marlborough        & 5417097 & 1687530\\\\\n",
       "\t2 & 100030548 & Perry Saddle Campsite    & OPEN & Nelson/Tasman      & 5472086 & 1549710\\\\\n",
       "\t3 & 100031409 & Mill Flat Campsite       & OPEN & Marlborough        & 5405488 & 1642638\\\\\n",
       "\t4 & 100038655 & Saxon Campsite           & OPEN & Nelson/Tasman      & 5473616 & 1541742\\\\\n",
       "\t5 & 100042230 & Aorere Shelter Campsite  & OPEN & Nelson/Tasman      & 5472785 & 1552807\\\\\n",
       "\t6 & 100042231 & Gouland Downs Campsite   & OPEN & Nelson/Tasman      & 5473166 & 1545509\\\\\n",
       "\t7 & 100042738 & John Coull Campsite      & OPEN & Manawatu/Whanganui & 5655602 & 1765211\\\\\n",
       "\t8 & 100042930 & Lake Tennyson Campsite   & OPEN & Marlborough        & 5326704 & 1578547\\\\\n",
       "\t9 & 100042949 & Bettjemann Campsite      & OPEN & NA                 & 5658806 & 1772624\\\\\n",
       "\t10 & 100042951 & Mangapurua Trig Campsite & OPEN & NA                 & 5657718 & 1779664\\\\\n",
       "\t11 & 100042952 & Atene Skyline Campsite   & OPEN & NA                 & 5603256 & 1786151\\\\\n",
       "\t12 & 100043178 & Lake Taylor Campsite     & OPEN & Canterbury         & 5264062 & 1538960\\\\\n",
       "\t13 & 100043483 & Wharehunga Bay Campsite  & OPEN & Marlborough        & 5440490 & 1708285\\\\\n",
       "\t14 & 100043513 & South Arm Campsite       & OPEN & Marlborough        & 5482182 & 1673091\\\\\n",
       "\t15 & 100043669 & Orari Campsite           & OPEN & Canterbury         & 5127884 & 1454436\\\\\n",
       "\t16 & 100043672 & Waihi Gorge Campsite     & OPEN & Canterbury         & 5126184 & 1452060\\\\\n",
       "\t17 & 100043673 & Mistletoe Flats Campsite & OPEN & Canterbury         & 5221620 & 1496812\\\\\n",
       "\t18 & 100043764 & Awaroa Campsite          & OPEN & Nelson/Tasman      & 5476252 & 1601584\\\\\n",
       "\t19 & 100043767 & Akersten Bay Campsite    & OPEN & Nelson/Tasman      & 5464346 & 1603992\\\\\n",
       "\t20 & 100043769 & Apple Tree Bay Campsite  & OPEN & Nelson/Tasman      & 5463208 & 1603169\\\\\n",
       "\t21 & 100043774 & Watering Cove Campsite   & OPEN & Nelson/Tasman      & 5465252 & 1604737\\\\\n",
       "\t22 & 100043935 & Andrews Shelter Campsite & OPEN & Canterbury         & 5239136 & 1501603\\\\\n",
       "\t23 & 100044057 & Kauauroa Bay Campsite    & OPEN & Marlborough        & 5456488 & 1681490\\\\\n",
       "\t24 & 100044059 & Nikau Cove Campsite      & OPEN & Marlborough        & 5439031 & 1688003\\\\\n",
       "\t25 & 100044060 & Waiona Bay Campsite      & OPEN & Marlborough        & 5460587 & 1673492\\\\\n",
       "\t26 & 100044092 & Cannibal Cove Campsite   & OPEN & Marlborough        & 5452019 & 1705169\\\\\n",
       "\t27 & 100044095 & Harvey Bay Campsite      & OPEN & Marlborough        & 5447790 & 1662394\\\\\n",
       "\t28 & 100044096 & Jacobs Bay Campsite      & OPEN & Marlborough        & 5448690 & 1674292\\\\\n",
       "\t29 & 100044097 & Moetapu Bay Campsite     & OPEN & Marlborough        & 5431994 & 1671592\\\\\n",
       "\t30 & 100044098 & Ngaruru Bay campsite     & OPEN & Marlborough        & 5435291 & 1701785\\\\\n",
       "\t⋮ & ⋮ & ⋮ & ⋮ & ⋮ & ⋮ & ⋮\\\\\n",
       "\t300 & 100038588 & Canaan Downs Campsite               & OPEN & Nelson/Tasman & 5467579 & 1590897\\\\\n",
       "\t301 & 100065344 & Kawatiri Campsite                   & OPEN & Nelson/Tasman & 5384128 & 1568176\\\\\n",
       "\t302 & 100065345 & Kerr Bay Campsite                   & OPEN & Nelson/Tasman & 5371777 & 1587370\\\\\n",
       "\t303 & 100066098 & Elaine Bay Campsite                 & OPEN & Marlborough   & 5454821 & 1664677\\\\\n",
       "\t304 & 100066492 & Lake Rotoroa Campsite               & OPEN & Nelson/Tasman & 5373011 & 1566590\\\\\n",
       "\t305 & 100120946 & Teetotal Campsite                   & OPEN & Nelson/Tasman & 5373191 & 1586195\\\\\n",
       "\t306 & 100085451 & West Bay Campsite                   & OPEN & Nelson/Tasman & 5372655 & 1585660\\\\\n",
       "\t307 & 100085452 & Buller Campground                   & OPEN & NA            & 5372311 & 1585236\\\\\n",
       "\t308 & 100085145 & Lindis Pass Historic Hotel Campsite & OPEN & Otago         & 5044436 & 1322276\\\\\n",
       "\t309 & 100044090 & Aussie Bay Campsite                 & OPEN & Marlborough   & 5430491 & 1677767\\\\\n",
       "\t310 & 100065341 & Whatamango Bay Campsite             & OPEN & Marlborough   & 5430675 & 1690072\\\\\n",
       "\t311 & 100066100 & Kenepuru Head Campsite              & OPEN & Marlborough   & 5441344 & 1693786\\\\\n",
       "\t312 & 100030221 & Lake Mackenzie Campsite             & OPEN & Fiordland     & 5031911 & 1218263\\\\\n",
       "\t313 & 100031421 & South Arm Campsite (Lake Manapouri) & OPEN & Fiordland     & 4936474 & 1161136\\\\\n",
       "\t314 & 100136665 & Diamond Lake Campsite               & OPEN & Otago         & 5036440 & 1234280\\\\\n",
       "\t315 & 100039602 & Cascade Creek Campsite              & OPEN & Fiordland     & 5016992 & 1211142\\\\\n",
       "\t316 & 100042532 & Henry Creek Campsite                & OPEN & Fiordland     & 4978212 & 1192749\\\\\n",
       "\t317 & 100042740 & Hall Arm Campsite                   & OPEN & Fiordland     & 4947582 & 1137277\\\\\n",
       "\t318 & 100043515 & Monowai Campsite                    & OPEN & Fiordland     & 4912227 & 1174374\\\\\n",
       "\t319 & 100044151 & Mackay Creek Campsite               & OPEN & Fiordland     & 4997557 & 1205650\\\\\n",
       "\t320 & 100044152 & Mavora Lakes Campsite               & OPEN & Southland     & 4975941 & 1221497\\\\\n",
       "\t321 & 100064831 & Greenstone Saddle Campsite          & OPEN & NA            & 5024665 & 1215601\\\\\n",
       "\t322 & 100064957 & Iris Burn Campsite                  & OPEN & Fiordland     & 4958048 & 1170232\\\\\n",
       "\t323 & 100065044 & Brod Bay Campsite                   & OPEN & Fiordland     & 4958265 & 1183256\\\\\n",
       "\t324 & 100065487 & Deer Flat Campsite                  & OPEN & Fiordland     & 5004970 & 1206545\\\\\n",
       "\t325 & 100065488 & Kiosk Creek Campsite                & OPEN & Fiordland     & 5009087 & 1207153\\\\\n",
       "\t326 & 100065489 & Totara Campsite                     & OPEN & Fiordland     & 4996355 & 1205251\\\\\n",
       "\t327 & 100065490 & Upper Eglinton Campsite             & OPEN & Fiordland     & 5013084 & 1207940\\\\\n",
       "\t328 & 100065491 & Walker Creek Campsite               & OPEN & Fiordland     & 4993449 & 1203952\\\\\n",
       "\t329 & 100066034 & Thicket Burn Campsite               & OPEN & Fiordland     & 4890119 & 1170715\\\\\n",
       "\\end{tabular}\n"
      ],
      "text/markdown": [
       "\n",
       "A data.frame: 329 × 6\n",
       "\n",
       "| <!--/--> | assetId &lt;int&gt; | name &lt;chr&gt; | status &lt;chr&gt; | region &lt;chr&gt; | y &lt;int&gt; | x &lt;int&gt; |\n",
       "|---|---|---|---|---|---|---|\n",
       "| 1 | 100030520 | Rarangi Campsite         | OPEN | Marlborough        | 5417097 | 1687530 |\n",
       "| 2 | 100030548 | Perry Saddle Campsite    | OPEN | Nelson/Tasman      | 5472086 | 1549710 |\n",
       "| 3 | 100031409 | Mill Flat Campsite       | OPEN | Marlborough        | 5405488 | 1642638 |\n",
       "| 4 | 100038655 | Saxon Campsite           | OPEN | Nelson/Tasman      | 5473616 | 1541742 |\n",
       "| 5 | 100042230 | Aorere Shelter Campsite  | OPEN | Nelson/Tasman      | 5472785 | 1552807 |\n",
       "| 6 | 100042231 | Gouland Downs Campsite   | OPEN | Nelson/Tasman      | 5473166 | 1545509 |\n",
       "| 7 | 100042738 | John Coull Campsite      | OPEN | Manawatu/Whanganui | 5655602 | 1765211 |\n",
       "| 8 | 100042930 | Lake Tennyson Campsite   | OPEN | Marlborough        | 5326704 | 1578547 |\n",
       "| 9 | 100042949 | Bettjemann Campsite      | OPEN | NA                 | 5658806 | 1772624 |\n",
       "| 10 | 100042951 | Mangapurua Trig Campsite | OPEN | NA                 | 5657718 | 1779664 |\n",
       "| 11 | 100042952 | Atene Skyline Campsite   | OPEN | NA                 | 5603256 | 1786151 |\n",
       "| 12 | 100043178 | Lake Taylor Campsite     | OPEN | Canterbury         | 5264062 | 1538960 |\n",
       "| 13 | 100043483 | Wharehunga Bay Campsite  | OPEN | Marlborough        | 5440490 | 1708285 |\n",
       "| 14 | 100043513 | South Arm Campsite       | OPEN | Marlborough        | 5482182 | 1673091 |\n",
       "| 15 | 100043669 | Orari Campsite           | OPEN | Canterbury         | 5127884 | 1454436 |\n",
       "| 16 | 100043672 | Waihi Gorge Campsite     | OPEN | Canterbury         | 5126184 | 1452060 |\n",
       "| 17 | 100043673 | Mistletoe Flats Campsite | OPEN | Canterbury         | 5221620 | 1496812 |\n",
       "| 18 | 100043764 | Awaroa Campsite          | OPEN | Nelson/Tasman      | 5476252 | 1601584 |\n",
       "| 19 | 100043767 | Akersten Bay Campsite    | OPEN | Nelson/Tasman      | 5464346 | 1603992 |\n",
       "| 20 | 100043769 | Apple Tree Bay Campsite  | OPEN | Nelson/Tasman      | 5463208 | 1603169 |\n",
       "| 21 | 100043774 | Watering Cove Campsite   | OPEN | Nelson/Tasman      | 5465252 | 1604737 |\n",
       "| 22 | 100043935 | Andrews Shelter Campsite | OPEN | Canterbury         | 5239136 | 1501603 |\n",
       "| 23 | 100044057 | Kauauroa Bay Campsite    | OPEN | Marlborough        | 5456488 | 1681490 |\n",
       "| 24 | 100044059 | Nikau Cove Campsite      | OPEN | Marlborough        | 5439031 | 1688003 |\n",
       "| 25 | 100044060 | Waiona Bay Campsite      | OPEN | Marlborough        | 5460587 | 1673492 |\n",
       "| 26 | 100044092 | Cannibal Cove Campsite   | OPEN | Marlborough        | 5452019 | 1705169 |\n",
       "| 27 | 100044095 | Harvey Bay Campsite      | OPEN | Marlborough        | 5447790 | 1662394 |\n",
       "| 28 | 100044096 | Jacobs Bay Campsite      | OPEN | Marlborough        | 5448690 | 1674292 |\n",
       "| 29 | 100044097 | Moetapu Bay Campsite     | OPEN | Marlborough        | 5431994 | 1671592 |\n",
       "| 30 | 100044098 | Ngaruru Bay campsite     | OPEN | Marlborough        | 5435291 | 1701785 |\n",
       "| ⋮ | ⋮ | ⋮ | ⋮ | ⋮ | ⋮ | ⋮ |\n",
       "| 300 | 100038588 | Canaan Downs Campsite               | OPEN | Nelson/Tasman | 5467579 | 1590897 |\n",
       "| 301 | 100065344 | Kawatiri Campsite                   | OPEN | Nelson/Tasman | 5384128 | 1568176 |\n",
       "| 302 | 100065345 | Kerr Bay Campsite                   | OPEN | Nelson/Tasman | 5371777 | 1587370 |\n",
       "| 303 | 100066098 | Elaine Bay Campsite                 | OPEN | Marlborough   | 5454821 | 1664677 |\n",
       "| 304 | 100066492 | Lake Rotoroa Campsite               | OPEN | Nelson/Tasman | 5373011 | 1566590 |\n",
       "| 305 | 100120946 | Teetotal Campsite                   | OPEN | Nelson/Tasman | 5373191 | 1586195 |\n",
       "| 306 | 100085451 | West Bay Campsite                   | OPEN | Nelson/Tasman | 5372655 | 1585660 |\n",
       "| 307 | 100085452 | Buller Campground                   | OPEN | NA            | 5372311 | 1585236 |\n",
       "| 308 | 100085145 | Lindis Pass Historic Hotel Campsite | OPEN | Otago         | 5044436 | 1322276 |\n",
       "| 309 | 100044090 | Aussie Bay Campsite                 | OPEN | Marlborough   | 5430491 | 1677767 |\n",
       "| 310 | 100065341 | Whatamango Bay Campsite             | OPEN | Marlborough   | 5430675 | 1690072 |\n",
       "| 311 | 100066100 | Kenepuru Head Campsite              | OPEN | Marlborough   | 5441344 | 1693786 |\n",
       "| 312 | 100030221 | Lake Mackenzie Campsite             | OPEN | Fiordland     | 5031911 | 1218263 |\n",
       "| 313 | 100031421 | South Arm Campsite (Lake Manapouri) | OPEN | Fiordland     | 4936474 | 1161136 |\n",
       "| 314 | 100136665 | Diamond Lake Campsite               | OPEN | Otago         | 5036440 | 1234280 |\n",
       "| 315 | 100039602 | Cascade Creek Campsite              | OPEN | Fiordland     | 5016992 | 1211142 |\n",
       "| 316 | 100042532 | Henry Creek Campsite                | OPEN | Fiordland     | 4978212 | 1192749 |\n",
       "| 317 | 100042740 | Hall Arm Campsite                   | OPEN | Fiordland     | 4947582 | 1137277 |\n",
       "| 318 | 100043515 | Monowai Campsite                    | OPEN | Fiordland     | 4912227 | 1174374 |\n",
       "| 319 | 100044151 | Mackay Creek Campsite               | OPEN | Fiordland     | 4997557 | 1205650 |\n",
       "| 320 | 100044152 | Mavora Lakes Campsite               | OPEN | Southland     | 4975941 | 1221497 |\n",
       "| 321 | 100064831 | Greenstone Saddle Campsite          | OPEN | NA            | 5024665 | 1215601 |\n",
       "| 322 | 100064957 | Iris Burn Campsite                  | OPEN | Fiordland     | 4958048 | 1170232 |\n",
       "| 323 | 100065044 | Brod Bay Campsite                   | OPEN | Fiordland     | 4958265 | 1183256 |\n",
       "| 324 | 100065487 | Deer Flat Campsite                  | OPEN | Fiordland     | 5004970 | 1206545 |\n",
       "| 325 | 100065488 | Kiosk Creek Campsite                | OPEN | Fiordland     | 5009087 | 1207153 |\n",
       "| 326 | 100065489 | Totara Campsite                     | OPEN | Fiordland     | 4996355 | 1205251 |\n",
       "| 327 | 100065490 | Upper Eglinton Campsite             | OPEN | Fiordland     | 5013084 | 1207940 |\n",
       "| 328 | 100065491 | Walker Creek Campsite               | OPEN | Fiordland     | 4993449 | 1203952 |\n",
       "| 329 | 100066034 | Thicket Burn Campsite               | OPEN | Fiordland     | 4890119 | 1170715 |\n",
       "\n"
      ],
      "text/plain": [
       "    assetId   name                                status region            \n",
       "1   100030520 Rarangi Campsite                    OPEN   Marlborough       \n",
       "2   100030548 Perry Saddle Campsite               OPEN   Nelson/Tasman     \n",
       "3   100031409 Mill Flat Campsite                  OPEN   Marlborough       \n",
       "4   100038655 Saxon Campsite                      OPEN   Nelson/Tasman     \n",
       "5   100042230 Aorere Shelter Campsite             OPEN   Nelson/Tasman     \n",
       "6   100042231 Gouland Downs Campsite              OPEN   Nelson/Tasman     \n",
       "7   100042738 John Coull Campsite                 OPEN   Manawatu/Whanganui\n",
       "8   100042930 Lake Tennyson Campsite              OPEN   Marlborough       \n",
       "9   100042949 Bettjemann Campsite                 OPEN   NA                \n",
       "10  100042951 Mangapurua Trig Campsite            OPEN   NA                \n",
       "11  100042952 Atene Skyline Campsite              OPEN   NA                \n",
       "12  100043178 Lake Taylor Campsite                OPEN   Canterbury        \n",
       "13  100043483 Wharehunga Bay Campsite             OPEN   Marlborough       \n",
       "14  100043513 South Arm Campsite                  OPEN   Marlborough       \n",
       "15  100043669 Orari Campsite                      OPEN   Canterbury        \n",
       "16  100043672 Waihi Gorge Campsite                OPEN   Canterbury        \n",
       "17  100043673 Mistletoe Flats Campsite            OPEN   Canterbury        \n",
       "18  100043764 Awaroa Campsite                     OPEN   Nelson/Tasman     \n",
       "19  100043767 Akersten Bay Campsite               OPEN   Nelson/Tasman     \n",
       "20  100043769 Apple Tree Bay Campsite             OPEN   Nelson/Tasman     \n",
       "21  100043774 Watering Cove Campsite              OPEN   Nelson/Tasman     \n",
       "22  100043935 Andrews Shelter Campsite            OPEN   Canterbury        \n",
       "23  100044057 Kauauroa Bay Campsite               OPEN   Marlborough       \n",
       "24  100044059 Nikau Cove Campsite                 OPEN   Marlborough       \n",
       "25  100044060 Waiona Bay Campsite                 OPEN   Marlborough       \n",
       "26  100044092 Cannibal Cove Campsite              OPEN   Marlborough       \n",
       "27  100044095 Harvey Bay Campsite                 OPEN   Marlborough       \n",
       "28  100044096 Jacobs Bay Campsite                 OPEN   Marlborough       \n",
       "29  100044097 Moetapu Bay Campsite                OPEN   Marlborough       \n",
       "30  100044098 Ngaruru Bay campsite                OPEN   Marlborough       \n",
       "⋮   ⋮         ⋮                                   ⋮      ⋮                 \n",
       "300 100038588 Canaan Downs Campsite               OPEN   Nelson/Tasman     \n",
       "301 100065344 Kawatiri Campsite                   OPEN   Nelson/Tasman     \n",
       "302 100065345 Kerr Bay Campsite                   OPEN   Nelson/Tasman     \n",
       "303 100066098 Elaine Bay Campsite                 OPEN   Marlborough       \n",
       "304 100066492 Lake Rotoroa Campsite               OPEN   Nelson/Tasman     \n",
       "305 100120946 Teetotal Campsite                   OPEN   Nelson/Tasman     \n",
       "306 100085451 West Bay Campsite                   OPEN   Nelson/Tasman     \n",
       "307 100085452 Buller Campground                   OPEN   NA                \n",
       "308 100085145 Lindis Pass Historic Hotel Campsite OPEN   Otago             \n",
       "309 100044090 Aussie Bay Campsite                 OPEN   Marlborough       \n",
       "310 100065341 Whatamango Bay Campsite             OPEN   Marlborough       \n",
       "311 100066100 Kenepuru Head Campsite              OPEN   Marlborough       \n",
       "312 100030221 Lake Mackenzie Campsite             OPEN   Fiordland         \n",
       "313 100031421 South Arm Campsite (Lake Manapouri) OPEN   Fiordland         \n",
       "314 100136665 Diamond Lake Campsite               OPEN   Otago             \n",
       "315 100039602 Cascade Creek Campsite              OPEN   Fiordland         \n",
       "316 100042532 Henry Creek Campsite                OPEN   Fiordland         \n",
       "317 100042740 Hall Arm Campsite                   OPEN   Fiordland         \n",
       "318 100043515 Monowai Campsite                    OPEN   Fiordland         \n",
       "319 100044151 Mackay Creek Campsite               OPEN   Fiordland         \n",
       "320 100044152 Mavora Lakes Campsite               OPEN   Southland         \n",
       "321 100064831 Greenstone Saddle Campsite          OPEN   NA                \n",
       "322 100064957 Iris Burn Campsite                  OPEN   Fiordland         \n",
       "323 100065044 Brod Bay Campsite                   OPEN   Fiordland         \n",
       "324 100065487 Deer Flat Campsite                  OPEN   Fiordland         \n",
       "325 100065488 Kiosk Creek Campsite                OPEN   Fiordland         \n",
       "326 100065489 Totara Campsite                     OPEN   Fiordland         \n",
       "327 100065490 Upper Eglinton Campsite             OPEN   Fiordland         \n",
       "328 100065491 Walker Creek Campsite               OPEN   Fiordland         \n",
       "329 100066034 Thicket Burn Campsite               OPEN   Fiordland         \n",
       "    y       x      \n",
       "1   5417097 1687530\n",
       "2   5472086 1549710\n",
       "3   5405488 1642638\n",
       "4   5473616 1541742\n",
       "5   5472785 1552807\n",
       "6   5473166 1545509\n",
       "7   5655602 1765211\n",
       "8   5326704 1578547\n",
       "9   5658806 1772624\n",
       "10  5657718 1779664\n",
       "11  5603256 1786151\n",
       "12  5264062 1538960\n",
       "13  5440490 1708285\n",
       "14  5482182 1673091\n",
       "15  5127884 1454436\n",
       "16  5126184 1452060\n",
       "17  5221620 1496812\n",
       "18  5476252 1601584\n",
       "19  5464346 1603992\n",
       "20  5463208 1603169\n",
       "21  5465252 1604737\n",
       "22  5239136 1501603\n",
       "23  5456488 1681490\n",
       "24  5439031 1688003\n",
       "25  5460587 1673492\n",
       "26  5452019 1705169\n",
       "27  5447790 1662394\n",
       "28  5448690 1674292\n",
       "29  5431994 1671592\n",
       "30  5435291 1701785\n",
       "⋮   ⋮       ⋮      \n",
       "300 5467579 1590897\n",
       "301 5384128 1568176\n",
       "302 5371777 1587370\n",
       "303 5454821 1664677\n",
       "304 5373011 1566590\n",
       "305 5373191 1586195\n",
       "306 5372655 1585660\n",
       "307 5372311 1585236\n",
       "308 5044436 1322276\n",
       "309 5430491 1677767\n",
       "310 5430675 1690072\n",
       "311 5441344 1693786\n",
       "312 5031911 1218263\n",
       "313 4936474 1161136\n",
       "314 5036440 1234280\n",
       "315 5016992 1211142\n",
       "316 4978212 1192749\n",
       "317 4947582 1137277\n",
       "318 4912227 1174374\n",
       "319 4997557 1205650\n",
       "320 4975941 1221497\n",
       "321 5024665 1215601\n",
       "322 4958048 1170232\n",
       "323 4958265 1183256\n",
       "324 5004970 1206545\n",
       "325 5009087 1207153\n",
       "326 4996355 1205251\n",
       "327 5013084 1207940\n",
       "328 4993449 1203952\n",
       "329 4890119 1170715"
      ]
     },
     "metadata": {},
     "output_type": "display_data"
    }
   ],
   "source": [
    "campsite_df <- fromJSON(rawToChar(r$content))\n",
    "campsite_df"
   ]
  },
  {
   "cell_type": "markdown",
   "metadata": {},
   "source": [
    ">Count of Campsites per Region:"
   ]
  },
  {
   "cell_type": "code",
   "execution_count": 181,
   "metadata": {},
   "outputs": [
    {
     "name": "stdout",
     "output_type": "stream",
     "text": [
      " 'table' int [1:18(1d)] 9 8 25 12 18 14 15 7 14 49 ...\n",
      " - attr(*, \"dimnames\")=List of 1\n",
      "  ..$ : chr [1:18] \"Auckland\" \"Bay of Plenty\" \"Canterbury\" \"Central North Island\" ...\n"
     ]
    }
   ],
   "source": [
    "df = campsite_df\n",
    "campsites_by_region <- table(df$region)"
   ]
  },
  {
   "cell_type": "markdown",
   "metadata": {},
   "source": [
    ">Plotting the campsites per region:"
   ]
  },
  {
   "cell_type": "code",
   "execution_count": 42,
   "metadata": {
    "tags": []
   },
   "outputs": [
    {
     "name": "stderr",
     "output_type": "stream",
     "text": [
      "Warning message in axis(if (horiz) 2 else 1, at = at.l, labels = names.arg, lty = axis.lty, :\n",
      "“conversion failure on 'Hawke’s Bay' in 'mbcsToSbcs': dot substituted for <e2>”\n",
      "Warning message in axis(if (horiz) 2 else 1, at = at.l, labels = names.arg, lty = axis.lty, :\n",
      "“conversion failure on 'Hawke’s Bay' in 'mbcsToSbcs': dot substituted for <80>”\n",
      "Warning message in axis(if (horiz) 2 else 1, at = at.l, labels = names.arg, lty = axis.lty, :\n",
      "“conversion failure on 'Hawke’s Bay' in 'mbcsToSbcs': dot substituted for <99>”\n"
     ]
    },
    {
     "data": {
      "image/png": "[encoded data removed]",
      "text/plain": [
       "Plot with title “Number of Campsites per Region”"
      ]
     },
     "metadata": {
      "image/png": {
       "height": 420,
       "width": 420
      }
     },
     "output_type": "display_data"
    }
   ],
   "source": [
    "barplot(campsites_by_region, \n",
    "        main = \"Number of Campsites per Region\",\n",
    "        xlab = \"Region\",\n",
    "        ylab = \"Number of Campsites\", \n",
    "        col = \"maroon\", las=2, cex.names = 0.7)"
   ]
  },
  {
   "cell_type": "markdown",
   "metadata": {},
   "source": [
    ">The barplot show that Malborough is the region with the most campsites under the New Zealand Department of Conservation, followed by Nelson/Tasman and Bay of Plenty.\n",
    ">This should be largely influenced by land area of these regions and geographical features of these areas. Compared to the regions containing the \n",
    ">major cities Auckland, Wellington and Christchurch which have low campsite numbers, \n",
    ">the fact that most of the land area of these major city regions are non-rural is also another fact to consider."
   ]
  },
  {
   "cell_type": "markdown",
   "metadata": {},
   "source": [
    ">According to Google:\n",
    ">- Malborough Land Area: 12,484 km²\n",
    ">- Nelson/Tasman Land Area: 422.2 km² + 9,771 km² = 10,193.2 km²\n",
    ">- Bay of Plenty Land Area: 12,231 km² 1,086\n",
    ">\n",
    ">As compared to:\n",
    ">- Auckland Land Area: 1,086 km²\n",
    ">- Bay of Plenty Land Area: 444 km²\n",
    ">- Canterbuy Land Area: 45,346 km²\n",
    ">\n",
    ">These numbers show that land area is a factor but not the sole factor. Demographic and location may play a big factor into these numbers."
   ]
  }
 ],
 "metadata": {
  "kernelspec": {
   "display_name": "R",
   "language": "R",
   "name": "ir"
  },
  "language_info": {
   "codemirror_mode": "r",
   "file_extension": ".r",
   "mimetype": "text/x-r-source",
   "name": "R",
   "pygments_lexer": "r",
   "version": "3.6.3"
  }
 },
 "nbformat": 4,
 "nbformat_minor": 4
}
