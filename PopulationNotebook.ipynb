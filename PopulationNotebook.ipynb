{
 "cells": [
  {
   "cell_type": "code",
   "execution_count": 1,
   "id": "ec5274d2-5c75-4db7-a7a3-888798a4127f",
   "metadata": {},
   "outputs": [
    {
     "name": "stderr",
     "output_type": "stream",
     "text": [
      "── \u001b[1mAttaching packages\u001b[22m ─────────────────────────────────────── tidyverse 1.3.1 ──\n",
      "\n",
      "\u001b[32m✔\u001b[39m \u001b[34mggplot2\u001b[39m 3.3.5     \u001b[32m✔\u001b[39m \u001b[34mpurrr  \u001b[39m 0.3.4\n",
      "\u001b[32m✔\u001b[39m \u001b[34mtibble \u001b[39m 3.1.4     \u001b[32m✔\u001b[39m \u001b[34mdplyr  \u001b[39m 1.0.7\n",
      "\u001b[32m✔\u001b[39m \u001b[34mtidyr  \u001b[39m 1.1.3     \u001b[32m✔\u001b[39m \u001b[34mstringr\u001b[39m 1.4.0\n",
      "\u001b[32m✔\u001b[39m \u001b[34mreadr  \u001b[39m 2.0.0     \u001b[32m✔\u001b[39m \u001b[34mforcats\u001b[39m 0.5.1\n",
      "\n",
      "── \u001b[1mConflicts\u001b[22m ────────────────────────────────────────── tidyverse_conflicts() ──\n",
      "\u001b[31m✖\u001b[39m \u001b[34mdplyr\u001b[39m::\u001b[32mfilter()\u001b[39m masks \u001b[34mstats\u001b[39m::filter()\n",
      "\u001b[31m✖\u001b[39m \u001b[34mdplyr\u001b[39m::\u001b[32mlag()\u001b[39m    masks \u001b[34mstats\u001b[39m::lag()\n",
      "\n"
     ]
    }
   ],
   "source": [
    "library(tidyverse)"
   ]
  },
  {
   "cell_type": "code",
   "execution_count": 2,
   "id": "7df91797-3dde-4c11-a313-bbc6e37725cf",
   "metadata": {},
   "outputs": [
    {
     "name": "stderr",
     "output_type": "stream",
     "text": [
      "New names:\n",
      "* `` -> ...2\n",
      "* `` -> ...3\n",
      "* `` -> ...4\n",
      "* `` -> ...5\n",
      "* `` -> ...6\n",
      "* ...\n",
      "\n"
     ]
    }
   ],
   "source": [
    "population_df <- read_csv(file=\"population (2).csv\", show_col_types = FALSE)"
   ]
  },
  {
   "cell_type": "code",
   "execution_count": 3,
   "id": "288f8050-a789-4e01-875d-3bb7079cd9b8",
   "metadata": {},
   "outputs": [
    {
     "name": "stderr",
     "output_type": "stream",
     "text": [
      "Warning message:\n",
      "“One or more parsing issues, see `problems()` for details”\n"
     ]
    },
    {
     "data": {
      "text/html": [
       "<table class=\"dataframe\">\n",
       "<caption>A tibble: 6 × 13</caption>\n",
       "<thead>\n",
       "\t<tr><th scope=col>Estimated Resident Population by Age and Sex (1991+) (Annual-Dec)</th><th scope=col>...2</th><th scope=col>...3</th><th scope=col>...4</th><th scope=col>...5</th><th scope=col>...6</th><th scope=col>...7</th><th scope=col>...8</th><th scope=col>...9</th><th scope=col>...10</th><th scope=col>...11</th><th scope=col>...12</th><th scope=col>...13</th></tr>\n",
       "\t<tr><th scope=col>&lt;chr&gt;</th><th scope=col>&lt;chr&gt;</th><th scope=col>&lt;chr&gt;</th><th scope=col>&lt;chr&gt;</th><th scope=col>&lt;chr&gt;</th><th scope=col>&lt;chr&gt;</th><th scope=col>&lt;chr&gt;</th><th scope=col>&lt;chr&gt;</th><th scope=col>&lt;chr&gt;</th><th scope=col>&lt;chr&gt;</th><th scope=col>&lt;chr&gt;</th><th scope=col>&lt;chr&gt;</th><th scope=col>&lt;chr&gt;</th></tr>\n",
       "</thead>\n",
       "<tbody>\n",
       "\t<tr><td>NA  </td><td>As at             </td><td>NA            </td><td>NA                </td><td>NA            </td><td>NA                </td><td>NA            </td><td>Mean year ended   </td><td>NA            </td><td>NA                </td><td>NA            </td><td>NA                </td><td>NA            </td></tr>\n",
       "\t<tr><td>NA  </td><td>Male              </td><td>NA            </td><td>Female            </td><td>NA            </td><td>Total             </td><td>NA            </td><td>Male              </td><td>NA            </td><td>Female            </td><td>NA            </td><td>Total             </td><td>NA            </td></tr>\n",
       "\t<tr><td>NA  </td><td>Median Age (Years)</td><td>Total All Ages</td><td>Median Age (Years)</td><td>Total All Ages</td><td>Median Age (Years)</td><td>Total All Ages</td><td>Median Age (Years)</td><td>Total All Ages</td><td>Median Age (Years)</td><td>Total All Ages</td><td>Median Age (Years)</td><td>Total All Ages</td></tr>\n",
       "\t<tr><td>2005</td><td>34.9              </td><td>2037700       </td><td>36.4              </td><td>2123300       </td><td>35.7              </td><td>4161000       </td><td>34.7              </td><td>2026200       </td><td>36.3              </td><td>2109800       </td><td>35.5              </td><td>4136000       </td></tr>\n",
       "\t<tr><td>2006</td><td>35.2              </td><td>2059600       </td><td>36.7              </td><td>2149500       </td><td>36.0              </td><td>4209100       </td><td>35.0              </td><td>2048700       </td><td>36.6              </td><td>2136500       </td><td>35.8              </td><td>4185300       </td></tr>\n",
       "\t<tr><td>2007</td><td>35.5              </td><td>2076800       </td><td>37.0              </td><td>2169000       </td><td>36.3              </td><td>4245700       </td><td>35.3              </td><td>2067600       </td><td>36.9              </td><td>2158600       </td><td>36.1              </td><td>4226200       </td></tr>\n",
       "</tbody>\n",
       "</table>\n"
      ],
      "text/latex": [
       "A tibble: 6 × 13\n",
       "\\begin{tabular}{lllllllllllll}\n",
       " Estimated Resident Population by Age and Sex (1991+) (Annual-Dec) & ...2 & ...3 & ...4 & ...5 & ...6 & ...7 & ...8 & ...9 & ...10 & ...11 & ...12 & ...13\\\\\n",
       " <chr> & <chr> & <chr> & <chr> & <chr> & <chr> & <chr> & <chr> & <chr> & <chr> & <chr> & <chr> & <chr>\\\\\n",
       "\\hline\n",
       "\t NA   & As at              & NA             & NA                 & NA             & NA                 & NA             & Mean year ended    & NA             & NA                 & NA             & NA                 & NA            \\\\\n",
       "\t NA   & Male               & NA             & Female             & NA             & Total              & NA             & Male               & NA             & Female             & NA             & Total              & NA            \\\\\n",
       "\t NA   & Median Age (Years) & Total All Ages & Median Age (Years) & Total All Ages & Median Age (Years) & Total All Ages & Median Age (Years) & Total All Ages & Median Age (Years) & Total All Ages & Median Age (Years) & Total All Ages\\\\\n",
       "\t 2005 & 34.9               & 2037700        & 36.4               & 2123300        & 35.7               & 4161000        & 34.7               & 2026200        & 36.3               & 2109800        & 35.5               & 4136000       \\\\\n",
       "\t 2006 & 35.2               & 2059600        & 36.7               & 2149500        & 36.0               & 4209100        & 35.0               & 2048700        & 36.6               & 2136500        & 35.8               & 4185300       \\\\\n",
       "\t 2007 & 35.5               & 2076800        & 37.0               & 2169000        & 36.3               & 4245700        & 35.3               & 2067600        & 36.9               & 2158600        & 36.1               & 4226200       \\\\\n",
       "\\end{tabular}\n"
      ],
      "text/markdown": [
       "\n",
       "A tibble: 6 × 13\n",
       "\n",
       "| Estimated Resident Population by Age and Sex (1991+) (Annual-Dec) &lt;chr&gt; | ...2 &lt;chr&gt; | ...3 &lt;chr&gt; | ...4 &lt;chr&gt; | ...5 &lt;chr&gt; | ...6 &lt;chr&gt; | ...7 &lt;chr&gt; | ...8 &lt;chr&gt; | ...9 &lt;chr&gt; | ...10 &lt;chr&gt; | ...11 &lt;chr&gt; | ...12 &lt;chr&gt; | ...13 &lt;chr&gt; |\n",
       "|---|---|---|---|---|---|---|---|---|---|---|---|---|\n",
       "| NA   | As at              | NA             | NA                 | NA             | NA                 | NA             | Mean year ended    | NA             | NA                 | NA             | NA                 | NA             |\n",
       "| NA   | Male               | NA             | Female             | NA             | Total              | NA             | Male               | NA             | Female             | NA             | Total              | NA             |\n",
       "| NA   | Median Age (Years) | Total All Ages | Median Age (Years) | Total All Ages | Median Age (Years) | Total All Ages | Median Age (Years) | Total All Ages | Median Age (Years) | Total All Ages | Median Age (Years) | Total All Ages |\n",
       "| 2005 | 34.9               | 2037700        | 36.4               | 2123300        | 35.7               | 4161000        | 34.7               | 2026200        | 36.3               | 2109800        | 35.5               | 4136000        |\n",
       "| 2006 | 35.2               | 2059600        | 36.7               | 2149500        | 36.0               | 4209100        | 35.0               | 2048700        | 36.6               | 2136500        | 35.8               | 4185300        |\n",
       "| 2007 | 35.5               | 2076800        | 37.0               | 2169000        | 36.3               | 4245700        | 35.3               | 2067600        | 36.9               | 2158600        | 36.1               | 4226200        |\n",
       "\n"
      ],
      "text/plain": [
       "  Estimated Resident Population by Age and Sex (1991+) (Annual-Dec)\n",
       "1 NA                                                               \n",
       "2 NA                                                               \n",
       "3 NA                                                               \n",
       "4 2005                                                             \n",
       "5 2006                                                             \n",
       "6 2007                                                             \n",
       "  ...2               ...3           ...4               ...5          \n",
       "1 As at              NA             NA                 NA            \n",
       "2 Male               NA             Female             NA            \n",
       "3 Median Age (Years) Total All Ages Median Age (Years) Total All Ages\n",
       "4 34.9               2037700        36.4               2123300       \n",
       "5 35.2               2059600        36.7               2149500       \n",
       "6 35.5               2076800        37.0               2169000       \n",
       "  ...6               ...7           ...8               ...9          \n",
       "1 NA                 NA             Mean year ended    NA            \n",
       "2 Total              NA             Male               NA            \n",
       "3 Median Age (Years) Total All Ages Median Age (Years) Total All Ages\n",
       "4 35.7               4161000        34.7               2026200       \n",
       "5 36.0               4209100        35.0               2048700       \n",
       "6 36.3               4245700        35.3               2067600       \n",
       "  ...10              ...11          ...12              ...13         \n",
       "1 NA                 NA             NA                 NA            \n",
       "2 Female             NA             Total              NA            \n",
       "3 Median Age (Years) Total All Ages Median Age (Years) Total All Ages\n",
       "4 36.3               2109800        35.5               4136000       \n",
       "5 36.6               2136500        35.8               4185300       \n",
       "6 36.9               2158600        36.1               4226200       "
      ]
     },
     "metadata": {},
     "output_type": "display_data"
    }
   ],
   "source": [
    "head(population_df)"
   ]
  },
  {
   "cell_type": "code",
   "execution_count": null,
   "id": "6c4a5c94-72c0-4262-ab4a-5a87f043540d",
   "metadata": {},
   "outputs": [],
   "source": []
  }
 ],
 "metadata": {
  "kernelspec": {
   "display_name": "R",
   "language": "R",
   "name": "ir"
  },
  "language_info": {
   "codemirror_mode": "r",
   "file_extension": ".r",
   "mimetype": "text/x-r-source",
   "name": "R",
   "pygments_lexer": "r",
   "version": "3.6.3"
  }
 },
 "nbformat": 4,
 "nbformat_minor": 5
}
